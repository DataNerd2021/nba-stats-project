{
 "cells": [
  {
   "cell_type": "markdown",
   "metadata": {},
   "source": [
    "#### Initialize DataFrame with Current Team Ratings"
   ]
  },
  {
   "cell_type": "code",
   "execution_count": 492,
   "metadata": {},
   "outputs": [],
   "source": [
    "import time\n",
    "from selenium import webdriver\n",
    "from bs4 import BeautifulSoup\n",
    "import pandas as pd\n",
    "\n",
    "\n",
    "url = f'https://www.nba.com/stats/teams/advanced?sort=OFF_RATING&dir=-1&Season=2023-24'\n",
    "driver = webdriver.Chrome()  # Make sure you have the ChromeDriver executable in your path\n",
    "\n",
    "try:\n",
    "    driver.get(url)\n",
    "    time.sleep(5)  # Allow time for the page to load dynamically\n",
    "\n",
    "    # Get the page source after dynamic content is loaded\n",
    "    page_source = driver.page_source\n",
    "\n",
    "    # Parse the HTML content of the page\n",
    "    soup = BeautifulSoup(page_source, 'html.parser')\n",
    "\n",
    "    # Find the table element with a specific class (replace 'your-class-name' with the actual class name)\n",
    "    table = soup.find('table', class_='Crom_table__p1iZz')\n",
    "\n",
    "    # Use pandas to read the HTML table into a DataFrame\n",
    "    df = pd.read_html(str(table))[0]\n",
    "finally:\n",
    "    driver.quit()\n",
    "df['season'] = '2023-24'\n",
    "df.rename(columns={'TEAM':'team_name'}, inplace=True)\n",
    "df = df[['team_name', 'season', 'W', 'L', 'OffRtg', 'DefRtg', 'NetRtg', 'AST%', 'AST/TO', 'eFG%', 'TS%']]"
   ]
  },
  {
   "cell_type": "code",
   "execution_count": 493,
   "metadata": {},
   "outputs": [
    {
     "data": {
      "text/html": [
       "<div>\n",
       "<style scoped>\n",
       "    .dataframe tbody tr th:only-of-type {\n",
       "        vertical-align: middle;\n",
       "    }\n",
       "\n",
       "    .dataframe tbody tr th {\n",
       "        vertical-align: top;\n",
       "    }\n",
       "\n",
       "    .dataframe thead th {\n",
       "        text-align: right;\n",
       "    }\n",
       "</style>\n",
       "<table border=\"1\" class=\"dataframe\">\n",
       "  <thead>\n",
       "    <tr style=\"text-align: right;\">\n",
       "      <th></th>\n",
       "      <th>team_name</th>\n",
       "      <th>season</th>\n",
       "      <th>reg_pts_off_to</th>\n",
       "      <th>reg_second_chance_pts</th>\n",
       "      <th>reg_fastbreak_pts</th>\n",
       "      <th>reg_pts_in_paint</th>\n",
       "      <th>reg_opp_pts_off_to</th>\n",
       "      <th>reg_opp_second_chance_pts</th>\n",
       "      <th>reg_opp_fastbreak_pts</th>\n",
       "      <th>reg_opp_pts_in_paint</th>\n",
       "    </tr>\n",
       "  </thead>\n",
       "  <tbody>\n",
       "    <tr>\n",
       "      <th>0</th>\n",
       "      <td>Boston Celtics</td>\n",
       "      <td>2023-24</td>\n",
       "      <td>15.2</td>\n",
       "      <td>14.8</td>\n",
       "      <td>14.7</td>\n",
       "      <td>46.3</td>\n",
       "      <td>13.9</td>\n",
       "      <td>13.5</td>\n",
       "      <td>13.8</td>\n",
       "      <td>47.6</td>\n",
       "    </tr>\n",
       "    <tr>\n",
       "      <th>1</th>\n",
       "      <td>Minnesota Timberwolves</td>\n",
       "      <td>2023-24</td>\n",
       "      <td>16.4</td>\n",
       "      <td>13.1</td>\n",
       "      <td>12.2</td>\n",
       "      <td>51.0</td>\n",
       "      <td>16.8</td>\n",
       "      <td>12.7</td>\n",
       "      <td>12.9</td>\n",
       "      <td>45.6</td>\n",
       "    </tr>\n",
       "    <tr>\n",
       "      <th>2</th>\n",
       "      <td>Oklahoma City Thunder</td>\n",
       "      <td>2023-24</td>\n",
       "      <td>19.6</td>\n",
       "      <td>10.9</td>\n",
       "      <td>14.9</td>\n",
       "      <td>53.0</td>\n",
       "      <td>14.7</td>\n",
       "      <td>15.6</td>\n",
       "      <td>11.9</td>\n",
       "      <td>46.5</td>\n",
       "    </tr>\n",
       "    <tr>\n",
       "      <th>3</th>\n",
       "      <td>Denver Nuggets</td>\n",
       "      <td>2023-24</td>\n",
       "      <td>15.1</td>\n",
       "      <td>13.8</td>\n",
       "      <td>12.9</td>\n",
       "      <td>53.0</td>\n",
       "      <td>16.9</td>\n",
       "      <td>12.6</td>\n",
       "      <td>13.7</td>\n",
       "      <td>50.0</td>\n",
       "    </tr>\n",
       "    <tr>\n",
       "      <th>4</th>\n",
       "      <td>Cleveland Cavaliers</td>\n",
       "      <td>2023-24</td>\n",
       "      <td>17.1</td>\n",
       "      <td>15.4</td>\n",
       "      <td>15.9</td>\n",
       "      <td>51.8</td>\n",
       "      <td>17.0</td>\n",
       "      <td>12.9</td>\n",
       "      <td>13.9</td>\n",
       "      <td>46.5</td>\n",
       "    </tr>\n",
       "  </tbody>\n",
       "</table>\n",
       "</div>"
      ],
      "text/plain": [
       "                team_name   season  reg_pts_off_to  reg_second_chance_pts   \n",
       "0          Boston Celtics  2023-24            15.2                   14.8  \\\n",
       "1  Minnesota Timberwolves  2023-24            16.4                   13.1   \n",
       "2   Oklahoma City Thunder  2023-24            19.6                   10.9   \n",
       "3          Denver Nuggets  2023-24            15.1                   13.8   \n",
       "4     Cleveland Cavaliers  2023-24            17.1                   15.4   \n",
       "\n",
       "   reg_fastbreak_pts  reg_pts_in_paint  reg_opp_pts_off_to   \n",
       "0               14.7              46.3                13.9  \\\n",
       "1               12.2              51.0                16.8   \n",
       "2               14.9              53.0                14.7   \n",
       "3               12.9              53.0                16.9   \n",
       "4               15.9              51.8                17.0   \n",
       "\n",
       "   reg_opp_second_chance_pts  reg_opp_fastbreak_pts  reg_opp_pts_in_paint  \n",
       "0                       13.5                   13.8                  47.6  \n",
       "1                       12.7                   12.9                  45.6  \n",
       "2                       15.6                   11.9                  46.5  \n",
       "3                       12.6                   13.7                  50.0  \n",
       "4                       12.9                   13.9                  46.5  "
      ]
     },
     "execution_count": 493,
     "metadata": {},
     "output_type": "execute_result"
    }
   ],
   "source": [
    "import time\n",
    "from selenium import webdriver\n",
    "from bs4 import BeautifulSoup\n",
    "import pandas as pd\n",
    "\n",
    "\n",
    "url = f'https://www.nba.com/stats/teams/misc?Season=2023-24'\n",
    "driver = webdriver.Chrome()  # Make sure you have the ChromeDriver executable in your path\n",
    "\n",
    "try:\n",
    "    driver.get(url)\n",
    "    time.sleep(5)  # Allow time for the page to load dynamically\n",
    "\n",
    "    # Get the page source after dynamic content is loaded\n",
    "    page_source = driver.page_source\n",
    "\n",
    "    # Parse the HTML content of the page\n",
    "    soup = BeautifulSoup(page_source, 'html.parser')\n",
    "\n",
    "    # Find the table element with a specific class (replace 'your-class-name' with the actual class name)\n",
    "    table = soup.find('table', class_='Crom_table__p1iZz')\n",
    "\n",
    "    # Use pandas to read the HTML table into a DataFrame\n",
    "    df2 = pd.read_html(str(table))[0]\n",
    "finally:\n",
    "    driver.quit()\n",
    "df2['season'] = '2023-24'\n",
    "df2.rename(columns={df2.columns[1]:'team_name', df2.columns[6]:'reg_pts_off_to', df2.columns[7]:'reg_second_chance_pts', df2.columns[8]:'reg_fastbreak_pts', df2.columns[9]:'reg_pts_in_paint', df2.columns[10]:'reg_opp_pts_off_to', df2.columns[11]:'reg_opp_second_chance_pts', df2.columns[12]:'reg_opp_fastbreak_pts', df2.columns[13]:'reg_opp_pts_in_paint'}, inplace=True)\n",
    "df2 = df2[['team_name', 'season', 'reg_pts_off_to', 'reg_second_chance_pts', 'reg_fastbreak_pts', 'reg_pts_in_paint', 'reg_opp_pts_off_to', 'reg_opp_second_chance_pts', 'reg_opp_fastbreak_pts', 'reg_opp_pts_in_paint']]\n",
    "df2.head(5)"
   ]
  },
  {
   "cell_type": "code",
   "execution_count": 494,
   "metadata": {},
   "outputs": [
    {
     "data": {
      "text/html": [
       "<div>\n",
       "<style scoped>\n",
       "    .dataframe tbody tr th:only-of-type {\n",
       "        vertical-align: middle;\n",
       "    }\n",
       "\n",
       "    .dataframe tbody tr th {\n",
       "        vertical-align: top;\n",
       "    }\n",
       "\n",
       "    .dataframe thead th {\n",
       "        text-align: right;\n",
       "    }\n",
       "</style>\n",
       "<table border=\"1\" class=\"dataframe\">\n",
       "  <thead>\n",
       "    <tr style=\"text-align: right;\">\n",
       "      <th></th>\n",
       "      <th>team_name</th>\n",
       "      <th>season</th>\n",
       "      <th>reg_pts_off_to</th>\n",
       "      <th>reg_second_chance_pts</th>\n",
       "      <th>reg_fastbreak_pts</th>\n",
       "      <th>reg_pts_in_paint</th>\n",
       "      <th>reg_opp_pts_off_to</th>\n",
       "      <th>reg_opp_second_chance_pts</th>\n",
       "      <th>reg_opp_fastbreak_pts</th>\n",
       "      <th>reg_opp_pts_in_paint</th>\n",
       "    </tr>\n",
       "  </thead>\n",
       "  <tbody>\n",
       "    <tr>\n",
       "      <th>0</th>\n",
       "      <td>Boston Celtics</td>\n",
       "      <td>2023-24</td>\n",
       "      <td>15.2</td>\n",
       "      <td>14.8</td>\n",
       "      <td>14.7</td>\n",
       "      <td>46.3</td>\n",
       "      <td>13.9</td>\n",
       "      <td>13.5</td>\n",
       "      <td>13.8</td>\n",
       "      <td>47.6</td>\n",
       "    </tr>\n",
       "    <tr>\n",
       "      <th>1</th>\n",
       "      <td>Minnesota Timberwolves</td>\n",
       "      <td>2023-24</td>\n",
       "      <td>16.4</td>\n",
       "      <td>13.1</td>\n",
       "      <td>12.2</td>\n",
       "      <td>51.0</td>\n",
       "      <td>16.8</td>\n",
       "      <td>12.7</td>\n",
       "      <td>12.9</td>\n",
       "      <td>45.6</td>\n",
       "    </tr>\n",
       "    <tr>\n",
       "      <th>2</th>\n",
       "      <td>Oklahoma City Thunder</td>\n",
       "      <td>2023-24</td>\n",
       "      <td>19.6</td>\n",
       "      <td>10.9</td>\n",
       "      <td>14.9</td>\n",
       "      <td>53.0</td>\n",
       "      <td>14.7</td>\n",
       "      <td>15.6</td>\n",
       "      <td>11.9</td>\n",
       "      <td>46.5</td>\n",
       "    </tr>\n",
       "    <tr>\n",
       "      <th>3</th>\n",
       "      <td>Denver Nuggets</td>\n",
       "      <td>2023-24</td>\n",
       "      <td>15.1</td>\n",
       "      <td>13.8</td>\n",
       "      <td>12.9</td>\n",
       "      <td>53.0</td>\n",
       "      <td>16.9</td>\n",
       "      <td>12.6</td>\n",
       "      <td>13.7</td>\n",
       "      <td>50.0</td>\n",
       "    </tr>\n",
       "    <tr>\n",
       "      <th>4</th>\n",
       "      <td>Cleveland Cavaliers</td>\n",
       "      <td>2023-24</td>\n",
       "      <td>17.1</td>\n",
       "      <td>15.4</td>\n",
       "      <td>15.9</td>\n",
       "      <td>51.8</td>\n",
       "      <td>17.0</td>\n",
       "      <td>12.9</td>\n",
       "      <td>13.9</td>\n",
       "      <td>46.5</td>\n",
       "    </tr>\n",
       "  </tbody>\n",
       "</table>\n",
       "</div>"
      ],
      "text/plain": [
       "                team_name   season  reg_pts_off_to  reg_second_chance_pts   \n",
       "0          Boston Celtics  2023-24            15.2                   14.8  \\\n",
       "1  Minnesota Timberwolves  2023-24            16.4                   13.1   \n",
       "2   Oklahoma City Thunder  2023-24            19.6                   10.9   \n",
       "3          Denver Nuggets  2023-24            15.1                   13.8   \n",
       "4     Cleveland Cavaliers  2023-24            17.1                   15.4   \n",
       "\n",
       "   reg_fastbreak_pts  reg_pts_in_paint  reg_opp_pts_off_to   \n",
       "0               14.7              46.3                13.9  \\\n",
       "1               12.2              51.0                16.8   \n",
       "2               14.9              53.0                14.7   \n",
       "3               12.9              53.0                16.9   \n",
       "4               15.9              51.8                17.0   \n",
       "\n",
       "   reg_opp_second_chance_pts  reg_opp_fastbreak_pts  reg_opp_pts_in_paint  \n",
       "0                       13.5                   13.8                  47.6  \n",
       "1                       12.7                   12.9                  45.6  \n",
       "2                       15.6                   11.9                  46.5  \n",
       "3                       12.6                   13.7                  50.0  \n",
       "4                       12.9                   13.9                  46.5  "
      ]
     },
     "execution_count": 494,
     "metadata": {},
     "output_type": "execute_result"
    }
   ],
   "source": [
    "# import time\n",
    "# from selenium import webdriver\n",
    "# from bs4 import BeautifulSoup\n",
    "# import pandas as pd\n",
    "\n",
    "# seasons = ['2021-22', '2020-21', '2019-20', '2018-19', '2017-18', '2016-17', '2015-16', '2014-15', '2013-14', '2012-13', '2011-12', '2010-11', '2009-10', '2008-09', '2007-08', '2006-07', '2005-06', '2004-05', '2003-04']\n",
    "\n",
    "# for season in seasons:\n",
    "\n",
    "#     url = f'https://www.nba.com/stats/teams/misc?Season={season}'\n",
    "#     driver = webdriver.Chrome()  # Make sure you have the ChromeDriver executable in your path\n",
    "\n",
    "#     try:\n",
    "#         driver.get(url)\n",
    "#         time.sleep(5)  # Allow time for the page to load dynamically\n",
    "\n",
    "#         # Get the page source after dynamic content is loaded\n",
    "#         page_source = driver.page_source\n",
    "\n",
    "#         # Parse the HTML content of the page\n",
    "#         soup = BeautifulSoup(page_source, 'html.parser')\n",
    "\n",
    "#         # Find the table element with a specific class (replace 'your-class-name' with the actual class name)\n",
    "#         table = soup.find('table', class_='Crom_table__p1iZz')\n",
    "\n",
    "#         # Use pandas to read the HTML table into a DataFrame\n",
    "#         df3 = pd.read_html(str(table))[0]\n",
    "#         df3['season'] = season\n",
    "#         df3.rename(columns={df3.columns[1]:'team_name', df3.columns[6]:'reg_pts_off_to', df3.columns[7]:'reg_second_chance_pts', df3.columns[8]:'reg_fastbreak_pts', df3.columns[9]:'reg_pts_in_paint', df3.columns[10]:'reg_opp_pts_off_to', df3.columns[11]:'reg_opp_second_chance_pts', df3.columns[12]:'reg_opp_fastbreak_pts', df3.columns[13]:'reg_opp_pts_in_paint'}, inplace=True)\n",
    "#         df3 = df3[['team_name', 'season', 'reg_pts_off_to', 'reg_second_chance_pts', 'reg_fastbreak_pts', 'reg_pts_in_paint', 'reg_opp_pts_off_to', 'reg_opp_second_chance_pts', 'reg_opp_fastbreak_pts', 'reg_opp_pts_in_paint']]\n",
    "#         df3.to_csv('historical_reg_season_misc_stats.csv', index=False, header=False, mode='a')\n",
    "#     finally:\n",
    "#         driver.quit()\n",
    "\n",
    "champions_misc = pd.read_csv('historical_reg_season_misc_stats.csv')\n",
    "champions_misc = pd.concat([df2, champions_misc])\n",
    "champions_misc.head(5)"
   ]
  },
  {
   "cell_type": "code",
   "execution_count": 495,
   "metadata": {},
   "outputs": [],
   "source": [
    "import numpy as np\n",
    "champions_misc['playoff_score'] = np.where((champions_misc['season'] == '2022-23') & (champions_misc['team_name'] == 'Denver Nuggets') , 5, \\\n",
    "                    np.where((champions_misc['season'] == '2021-22') & (champions_misc['team_name'] == 'Golden State Warriors'), 5, \\\n",
    "                    np.where((champions_misc['season'] == '2020-21') & (champions_misc['team_name'] == 'Milwaukee Bucks'), 5, \\\n",
    "                    np.where((champions_misc['season'] == '2019-20') & (champions_misc['team_name'] == 'Los Angeles Lakers'), 5, \\\n",
    "                    np.where((champions_misc['season'] == '2018-19') & (champions_misc['team_name'] == 'Toronto Raptors'), 5, \\\n",
    "                    np.where((champions_misc['season'] == '2017-18') & (champions_misc['team_name'] == 'Golden State Warriors'), 5, \\\n",
    "                    np.where((champions_misc['season'] == '2016-17') & (champions_misc['team_name'] == 'Golden State Warriors'), 5, \\\n",
    "                    np.where((champions_misc['season'] == '2015-16') & (champions_misc['team_name'] == 'Cleveland Cavaliers'), 5, \\\n",
    "                    np.where((champions_misc['season'] == '2014-15') & (champions_misc['team_name'] == 'Golden State Warriors'), 5, \\\n",
    "                    np.where((champions_misc['season'] == '2013-14') & (champions_misc['team_name'] == 'San Antonio Spurs'), 5, \\\n",
    "                    np.where((champions_misc['season'] == '2012-13') & (champions_misc['team_name'] == 'Miami Heat'), 5, \\\n",
    "                    np.where((champions_misc['season'] == '2011-12') & (champions_misc['team_name'] == 'Miami Heat'), 5, \\\n",
    "                    np.where((champions_misc['season'] == '2010-11') & (champions_misc['team_name'] == 'Dallas Mavericks'), 5, \\\n",
    "                    np.where((champions_misc['season'] == '2009-10') & (champions_misc['team_name'] == 'Los Angeles Lakers'), 5, \\\n",
    "                    np.where((champions_misc['season'] == '2008-09') & (champions_misc['team_name'] == 'Los Angeles Lakers'), 5, \\\n",
    "                    np.where((champions_misc['season'] == '2007-08') & (champions_misc['team_name'] == 'Boston Celtics'), 5, \\\n",
    "                    np.where((champions_misc['season'] == '2006-07') & (champions_misc['team_name'] == 'San Antonio Spurs'), 5, \\\n",
    "                    np.where((champions_misc['season'] == '2005-06') & (champions_misc['team_name'] == 'Miami Heat'), 5, \\\n",
    "                    np.where((champions_misc['season'] == '2004-05') & (champions_misc['team_name'] == 'San Antonio Spurs'), 5, \\\n",
    "                    np.where((champions_misc['season'] == '2003-04') & (champions_misc['team_name'] == 'Detroit Pistons'), 5, \\\n",
    "                    np.where((champions_misc['season'] == '2022-23') & (champions_misc['team_name'] == 'Miami Heat') , 4, \\\n",
    "                    np.where((champions_misc['season'] == '2022-23') & (champions_misc['team_name'] == 'Los Angeles Lakers'), 3, \\\n",
    "                    np.where((champions_misc['season'] == '2022-23') & (champions_misc['team_name'] == 'Boston Celtics'), 3, \\\n",
    "                    np.where((champions_misc['season'] == '2022-23') & (champions_misc['team_name'] == 'New York Knicks'), 2, \\\n",
    "                    np.where((champions_misc['season'] == '2022-23') & (champions_misc['team_name'] == 'Philadelphia 76ers'), 2, \\\n",
    "                    np.where((champions_misc['season'] == '2022-23') & (champions_misc['team_name'] == 'Golden State Warriors'), 2, \\\n",
    "                    np.where((champions_misc['season'] == '2022-23') & (champions_misc['team_name'] == 'Phoenix Suns'), 2, \\\n",
    "                    np.where((champions_misc['season'] == '2022-23') & (champions_misc['team_name'] == 'Sacramento Kings'), 1, \\\n",
    "                    np.where((champions_misc['season'] == '2022-23') & (champions_misc['team_name'] == 'Milwaukee Bucks'), 1, \\\n",
    "                    np.where((champions_misc['season'] == '2022-23') & (champions_misc['team_name'] == 'Atlanta Hawks'), 1, \\\n",
    "                    np.where((champions_misc['season'] == '2022-23') & (champions_misc['team_name'] == 'Minnesota Timberwolves'), 1, \\\n",
    "                    np.where((champions_misc['season'] == '2022-23') & (champions_misc['team_name'] == 'LA Clippers'), 1, \\\n",
    "                    np.where((champions_misc['season'] == '2022-23') & (champions_misc['team_name'] == 'Brooklyn Nets'), 1, \\\n",
    "                    np.where((champions_misc['season'] == '2022-23') & (champions_misc['team_name'] == 'Cleveland Cavaliers'), 1, \\\n",
    "                    np.where((champions_misc['season'] == '2022-23') & (champions_misc['team_name'] == 'Memphis Grizzlies'), 1, \\\n",
    "                    np.where((champions_misc['season'] == '2021-22') & (champions_misc['team_name'] == 'Boston Celtics'), 4, \\\n",
    "                    np.where((champions_misc['season'] == '2021-22') & (champions_misc['team_name'] == 'Miami Heat'), 3, \\\n",
    "                    np.where((champions_misc['season'] == '2021-22') & (champions_misc['team_name'] == 'Dallas Mavericks'), 3, \\\n",
    "                    np.where((champions_misc['season'] == '2021-22') & (champions_misc['team_name'] == 'Memphis Grizzlies'), 2, \\\n",
    "                    np.where((champions_misc['season'] == '2021-22') & (champions_misc['team_name'] == 'Phoenix Suns'), 2, \\\n",
    "                    np.where((champions_misc['season'] == '2021-22') & (champions_misc['team_name'] == 'Milwaukee Bucks'), 2, \\\n",
    "                    np.where((champions_misc['season'] == '2021-22') & (champions_misc['team_name'] == 'Philadelphia 76ers'), 2, \\\n",
    "                    np.where((champions_misc['season'] == '2021-22') & (champions_misc['team_name'] == 'Atlanta Hawks'), 1, \\\n",
    "                    np.where((champions_misc['season'] == '2021-22') & (champions_misc['team_name'] == 'Toronto Raptors'), 1, \\\n",
    "                    np.where((champions_misc['season'] == '2021-22') & (champions_misc['team_name'] == 'Chicago Bulls'), 1, \\\n",
    "                    np.where((champions_misc['season'] == '2021-22') & (champions_misc['team_name'] == 'Brooklyn Nets'), 1, \\\n",
    "                    np.where((champions_misc['season'] == '2021-22') & (champions_misc['team_name'] == 'New Orleans Pelicans'), 1, \\\n",
    "                    np.where((champions_misc['season'] == '2021-22') & (champions_misc['team_name'] == 'Utah Jazz'), 1, \\\n",
    "                    np.where((champions_misc['season'] == '2021-22') & (champions_misc['team_name'] == 'Denver Nuggets'), 1, \\\n",
    "                    np.where((champions_misc['season'] == '2020-21') & (champions_misc['team_name'] == 'Phoenix Suns'), 4, \\\n",
    "                    np.where((champions_misc['season'] == '2020-21') & (champions_misc['team_name'] == 'Atlanta Hawks'), 3, \\\n",
    "                    np.where((champions_misc['season'] == '2020-21') & (champions_misc['team_name'] == 'LA Clippers'), 3, \\\n",
    "                    np.where((champions_misc['season'] == '2020-21') & (champions_misc['team_name'] == 'Denver Nuggets'), 2, \\\n",
    "                    np.where((champions_misc['season'] == '2020-21') & (champions_misc['team_name'] == 'Utah Jazz'), 2, \\\n",
    "                    np.where((champions_misc['season'] == '2020-21') & (champions_misc['team_name'] == 'Brooklyn Nets'), 2, \\\n",
    "                    np.where((champions_misc['season'] == '2020-21') & (champions_misc['team_name'] == 'Philadelphia 76ers'), 2, \\\n",
    "                    np.where((champions_misc['season'] == '2020-21') & (champions_misc['team_name'] == 'Washington Wizards'), 1, \\\n",
    "                    np.where((champions_misc['season'] == '2020-21') & (champions_misc['team_name'] == 'New York Knicks'), 1, \\\n",
    "                    np.where((champions_misc['season'] == '2020-21') & (champions_misc['team_name'] == 'Miami Heat'), 1, \\\n",
    "                    np.where((champions_misc['season'] == '2020-21') & (champions_misc['team_name'] == 'Boston Celtics'), 1, \\\n",
    "                    np.where((champions_misc['season'] == '2020-21') & (champions_misc['team_name'] == 'Memphis Grizzlies'), 1, \\\n",
    "                    np.where((champions_misc['season'] == '2020-21') & (champions_misc['team_name'] == 'Dallas Mavericks'), 1, \\\n",
    "                    np.where((champions_misc['season'] == '2020-21') & (champions_misc['team_name'] == 'Portland Trail Blazers'), 1, \\\n",
    "                    np.where((champions_misc['season'] == '2020-21') & (champions_misc['team_name'] == 'Los Angeles Lakers'), 1, 0))))))))))))))))))))))))))))))))))))))))))))))))))))))))))))))))\n"
   ]
  },
  {
   "cell_type": "code",
   "execution_count": 496,
   "metadata": {},
   "outputs": [
    {
     "data": {
      "text/html": [
       "<div>\n",
       "<style scoped>\n",
       "    .dataframe tbody tr th:only-of-type {\n",
       "        vertical-align: middle;\n",
       "    }\n",
       "\n",
       "    .dataframe tbody tr th {\n",
       "        vertical-align: top;\n",
       "    }\n",
       "\n",
       "    .dataframe thead th {\n",
       "        text-align: right;\n",
       "    }\n",
       "</style>\n",
       "<table border=\"1\" class=\"dataframe\">\n",
       "  <thead>\n",
       "    <tr style=\"text-align: right;\">\n",
       "      <th></th>\n",
       "      <th>team_name</th>\n",
       "      <th>season</th>\n",
       "      <th>reg_pts_off_to</th>\n",
       "      <th>reg_pts_off_to_rank</th>\n",
       "      <th>reg_second_chance_pts</th>\n",
       "      <th>reg_second_chance_pts_rank</th>\n",
       "      <th>reg_fastbreak_pts</th>\n",
       "      <th>reg_fastbreak_pts_rank</th>\n",
       "      <th>reg_pts_in_paint</th>\n",
       "      <th>reg_pts_in_paint_rank</th>\n",
       "      <th>reg_opp_pts_off_to</th>\n",
       "      <th>reg_opp_pts_off_to_rank</th>\n",
       "      <th>reg_opp_second_chance_pts</th>\n",
       "      <th>reg_opp_second_chance_pts_rank</th>\n",
       "      <th>reg_opp_fastbreak_pts</th>\n",
       "      <th>reg_opp_fastbreak_pts_rank</th>\n",
       "      <th>reg_opp_pts_in_paint</th>\n",
       "      <th>reg_opp_pts_in_paint_rank</th>\n",
       "      <th>playoff_score</th>\n",
       "    </tr>\n",
       "  </thead>\n",
       "  <tbody>\n",
       "    <tr>\n",
       "      <th>3</th>\n",
       "      <td>Denver Nuggets</td>\n",
       "      <td>\"2022-23\"</td>\n",
       "      <td>15.9</td>\n",
       "      <td>17</td>\n",
       "      <td>13.0</td>\n",
       "      <td>18</td>\n",
       "      <td>16.2</td>\n",
       "      <td>5</td>\n",
       "      <td>55.0</td>\n",
       "      <td>4</td>\n",
       "      <td>17.4</td>\n",
       "      <td>16</td>\n",
       "      <td>13.4</td>\n",
       "      <td>8</td>\n",
       "      <td>13.7</td>\n",
       "      <td>11</td>\n",
       "      <td>52.5</td>\n",
       "      <td>20</td>\n",
       "      <td>5</td>\n",
       "    </tr>\n",
       "    <tr>\n",
       "      <th>32</th>\n",
       "      <td>Golden State Warriors</td>\n",
       "      <td>\"2021-22\"</td>\n",
       "      <td>17.6</td>\n",
       "      <td>6</td>\n",
       "      <td>12.6</td>\n",
       "      <td>16</td>\n",
       "      <td>13.8</td>\n",
       "      <td>7</td>\n",
       "      <td>44.7</td>\n",
       "      <td>23</td>\n",
       "      <td>16.9</td>\n",
       "      <td>17</td>\n",
       "      <td>12.7</td>\n",
       "      <td>5</td>\n",
       "      <td>12.3</td>\n",
       "      <td>12</td>\n",
       "      <td>43.9</td>\n",
       "      <td>5</td>\n",
       "      <td>5</td>\n",
       "    </tr>\n",
       "    <tr>\n",
       "      <th>66</th>\n",
       "      <td>Milwaukee Bucks</td>\n",
       "      <td>\"2020-21\"</td>\n",
       "      <td>16.3</td>\n",
       "      <td>10</td>\n",
       "      <td>13.2</td>\n",
       "      <td>10</td>\n",
       "      <td>14.5</td>\n",
       "      <td>4</td>\n",
       "      <td>48.8</td>\n",
       "      <td>12</td>\n",
       "      <td>15.9</td>\n",
       "      <td>9</td>\n",
       "      <td>13.0</td>\n",
       "      <td>10</td>\n",
       "      <td>10.7</td>\n",
       "      <td>3</td>\n",
       "      <td>43.1</td>\n",
       "      <td>3</td>\n",
       "      <td>5</td>\n",
       "    </tr>\n",
       "    <tr>\n",
       "      <th>92</th>\n",
       "      <td>Los Angeles Lakers</td>\n",
       "      <td>\"2019-20\"</td>\n",
       "      <td>19.0</td>\n",
       "      <td>3</td>\n",
       "      <td>14.1</td>\n",
       "      <td>4</td>\n",
       "      <td>18.4</td>\n",
       "      <td>2</td>\n",
       "      <td>52.8</td>\n",
       "      <td>2</td>\n",
       "      <td>17.4</td>\n",
       "      <td>16</td>\n",
       "      <td>12.0</td>\n",
       "      <td>5</td>\n",
       "      <td>16.5</td>\n",
       "      <td>23</td>\n",
       "      <td>45.8</td>\n",
       "      <td>8</td>\n",
       "      <td>5</td>\n",
       "    </tr>\n",
       "    <tr>\n",
       "      <th>121</th>\n",
       "      <td>Toronto Raptors</td>\n",
       "      <td>\"2018-19\"</td>\n",
       "      <td>17.2</td>\n",
       "      <td>9</td>\n",
       "      <td>12.7</td>\n",
       "      <td>12</td>\n",
       "      <td>18.4</td>\n",
       "      <td>4</td>\n",
       "      <td>48.5</td>\n",
       "      <td>17</td>\n",
       "      <td>15.9</td>\n",
       "      <td>10</td>\n",
       "      <td>12.9</td>\n",
       "      <td>10</td>\n",
       "      <td>13.5</td>\n",
       "      <td>13</td>\n",
       "      <td>47.5</td>\n",
       "      <td>9</td>\n",
       "      <td>5</td>\n",
       "    </tr>\n",
       "  </tbody>\n",
       "</table>\n",
       "</div>"
      ],
      "text/plain": [
       "                 team_name     season  reg_pts_off_to  reg_pts_off_to_rank   \n",
       "3           Denver Nuggets  \"2022-23\"            15.9                   17  \\\n",
       "32   Golden State Warriors  \"2021-22\"            17.6                    6   \n",
       "66         Milwaukee Bucks  \"2020-21\"            16.3                   10   \n",
       "92      Los Angeles Lakers  \"2019-20\"            19.0                    3   \n",
       "121        Toronto Raptors  \"2018-19\"            17.2                    9   \n",
       "\n",
       "     reg_second_chance_pts  reg_second_chance_pts_rank  reg_fastbreak_pts   \n",
       "3                     13.0                          18               16.2  \\\n",
       "32                    12.6                          16               13.8   \n",
       "66                    13.2                          10               14.5   \n",
       "92                    14.1                           4               18.4   \n",
       "121                   12.7                          12               18.4   \n",
       "\n",
       "     reg_fastbreak_pts_rank  reg_pts_in_paint  reg_pts_in_paint_rank   \n",
       "3                         5              55.0                      4  \\\n",
       "32                        7              44.7                     23   \n",
       "66                        4              48.8                     12   \n",
       "92                        2              52.8                      2   \n",
       "121                       4              48.5                     17   \n",
       "\n",
       "     reg_opp_pts_off_to  reg_opp_pts_off_to_rank  reg_opp_second_chance_pts   \n",
       "3                  17.4                       16                       13.4  \\\n",
       "32                 16.9                       17                       12.7   \n",
       "66                 15.9                        9                       13.0   \n",
       "92                 17.4                       16                       12.0   \n",
       "121                15.9                       10                       12.9   \n",
       "\n",
       "     reg_opp_second_chance_pts_rank  reg_opp_fastbreak_pts   \n",
       "3                                 8                   13.7  \\\n",
       "32                                5                   12.3   \n",
       "66                               10                   10.7   \n",
       "92                                5                   16.5   \n",
       "121                              10                   13.5   \n",
       "\n",
       "     reg_opp_fastbreak_pts_rank  reg_opp_pts_in_paint   \n",
       "3                            11                  52.5  \\\n",
       "32                           12                  43.9   \n",
       "66                            3                  43.1   \n",
       "92                           23                  45.8   \n",
       "121                          13                  47.5   \n",
       "\n",
       "     reg_opp_pts_in_paint_rank  playoff_score  \n",
       "3                           20              5  \n",
       "32                           5              5  \n",
       "66                           3              5  \n",
       "92                           8              5  \n",
       "121                          9              5  "
      ]
     },
     "execution_count": 496,
     "metadata": {},
     "output_type": "execute_result"
    }
   ],
   "source": [
    "champions_misc['reg_pts_off_to_rank'] = champions_misc.groupby('season')['reg_pts_off_to'].rank(method='dense', ascending=False).astype(int)\n",
    "champions_misc['reg_second_chance_pts_rank'] = champions_misc.groupby('season')['reg_second_chance_pts'].rank(method='dense', ascending=False).astype(int)\n",
    "champions_misc['reg_fastbreak_pts_rank'] = champions_misc.groupby('season')['reg_fastbreak_pts'].rank(method='dense', ascending=False).astype(int)\n",
    "champions_misc['reg_pts_in_paint_rank'] = champions_misc.groupby('season')['reg_pts_in_paint'].rank(method='dense', ascending=False).astype(int)\n",
    "champions_misc['reg_opp_pts_off_to_rank'] = champions_misc.groupby('season')['reg_opp_pts_off_to'].rank(method='dense', ascending=True).astype(int)\n",
    "champions_misc['reg_opp_second_chance_pts_rank'] = champions_misc.groupby('season')['reg_opp_second_chance_pts'].rank(method='dense', ascending=True).astype(int)\n",
    "champions_misc['reg_opp_fastbreak_pts_rank'] = champions_misc.groupby('season')['reg_opp_fastbreak_pts'].rank(method='dense', ascending=True).astype(int)\n",
    "champions_misc['reg_opp_pts_in_paint_rank'] = champions_misc.groupby('season')['reg_opp_pts_in_paint'].rank(method='dense', ascending=True).astype(int)\n",
    "champions_misc = champions_misc[['team_name', 'season', 'reg_pts_off_to', 'reg_pts_off_to_rank', 'reg_second_chance_pts', 'reg_second_chance_pts_rank', 'reg_fastbreak_pts', 'reg_fastbreak_pts_rank', 'reg_pts_in_paint', 'reg_pts_in_paint_rank', 'reg_opp_pts_off_to', 'reg_opp_pts_off_to_rank', 'reg_opp_second_chance_pts', 'reg_opp_second_chance_pts_rank', 'reg_opp_fastbreak_pts', 'reg_opp_fastbreak_pts_rank', 'reg_opp_pts_in_paint', 'reg_opp_pts_in_paint_rank', 'playoff_score']]\n",
    "playoff_contenders = champions_misc[champions_misc['playoff_score'] > 0].sort_values(by=['playoff_score', 'season'], ascending=[False, False])\n",
    "champions_misc = playoff_contenders[playoff_contenders['playoff_score'] == 5]\n",
    "champions_misc['season'] = '\"' + champions_misc['season'] + '\"'\n",
    "champions_misc.head(5)"
   ]
  },
  {
   "cell_type": "code",
   "execution_count": 497,
   "metadata": {},
   "outputs": [],
   "source": [
    "reg_season_stats = pd.read_csv('historical_reg_season_stats.csv')\n",
    "df.rename(columns={'OffRtg':'reg_off_rtg', 'DefRtg':'reg_def_rtg', 'NetRtg':'reg_net_rtg', 'AST%':'reg_fg_ast%', 'AST/TO':'reg_ast_to_ratio', 'eFG%':'reg_eff_fg%', 'TS%':'reg_ts%'}, inplace=True)\n",
    "reg_season_stats.rename(columns={'OffRtg':'reg_off_rtg', 'DefRtg':'reg_def_rtg', 'NetRtg':'reg_net_rtg', 'AST%':'reg_fg_ast%', 'AST/TO':'reg_ast_to_ratio', 'eFG%':'reg_eff_fg%', 'TS%':'reg_ts%'}, inplace=True)\n",
    "champions = pd.concat([df, reg_season_stats])\n"
   ]
  },
  {
   "cell_type": "code",
   "execution_count": 498,
   "metadata": {},
   "outputs": [
    {
     "data": {
      "text/html": [
       "<div>\n",
       "<style scoped>\n",
       "    .dataframe tbody tr th:only-of-type {\n",
       "        vertical-align: middle;\n",
       "    }\n",
       "\n",
       "    .dataframe tbody tr th {\n",
       "        vertical-align: top;\n",
       "    }\n",
       "\n",
       "    .dataframe thead th {\n",
       "        text-align: right;\n",
       "    }\n",
       "</style>\n",
       "<table border=\"1\" class=\"dataframe\">\n",
       "  <thead>\n",
       "    <tr style=\"text-align: right;\">\n",
       "      <th></th>\n",
       "      <th>team_name</th>\n",
       "      <th>season</th>\n",
       "      <th>reg_off_rtg</th>\n",
       "      <th>reg_off_rtg_rank</th>\n",
       "      <th>reg_def_rtg</th>\n",
       "      <th>reg_def_rtg_rank</th>\n",
       "      <th>reg_net_rtg</th>\n",
       "      <th>reg_net_rtg_rank</th>\n",
       "      <th>reg_fg_ast%</th>\n",
       "      <th>reg_fg_ast%_rank</th>\n",
       "      <th>reg_ast_to_ratio</th>\n",
       "      <th>reg_ast_to_ratio_rank</th>\n",
       "      <th>reg_eff_fg%</th>\n",
       "      <th>reg_eff_fg%_rank</th>\n",
       "      <th>reg_ts%</th>\n",
       "      <th>reg_ts%_rank</th>\n",
       "      <th>win%</th>\n",
       "    </tr>\n",
       "  </thead>\n",
       "  <tbody>\n",
       "    <tr>\n",
       "      <th>0</th>\n",
       "      <td>Indiana Pacers</td>\n",
       "      <td>2023-24</td>\n",
       "      <td>120.5</td>\n",
       "      <td>1</td>\n",
       "      <td>119.2</td>\n",
       "      <td>23</td>\n",
       "      <td>1.3</td>\n",
       "      <td>13</td>\n",
       "      <td>65.9</td>\n",
       "      <td>4</td>\n",
       "      <td>2.28</td>\n",
       "      <td>1</td>\n",
       "      <td>58.2</td>\n",
       "      <td>1</td>\n",
       "      <td>61.0</td>\n",
       "      <td>2</td>\n",
       "      <td>0.545</td>\n",
       "    </tr>\n",
       "    <tr>\n",
       "      <th>1</th>\n",
       "      <td>Boston Celtics</td>\n",
       "      <td>2023-24</td>\n",
       "      <td>120.4</td>\n",
       "      <td>2</td>\n",
       "      <td>110.9</td>\n",
       "      <td>3</td>\n",
       "      <td>9.5</td>\n",
       "      <td>1</td>\n",
       "      <td>60.3</td>\n",
       "      <td>21</td>\n",
       "      <td>2.07</td>\n",
       "      <td>8</td>\n",
       "      <td>56.9</td>\n",
       "      <td>4</td>\n",
       "      <td>60.3</td>\n",
       "      <td>6</td>\n",
       "      <td>0.778</td>\n",
       "    </tr>\n",
       "    <tr>\n",
       "      <th>2</th>\n",
       "      <td>LA Clippers</td>\n",
       "      <td>2023-24</td>\n",
       "      <td>119.6</td>\n",
       "      <td>3</td>\n",
       "      <td>114.2</td>\n",
       "      <td>11</td>\n",
       "      <td>5.4</td>\n",
       "      <td>5</td>\n",
       "      <td>60.4</td>\n",
       "      <td>20</td>\n",
       "      <td>2.00</td>\n",
       "      <td>13</td>\n",
       "      <td>56.9</td>\n",
       "      <td>4</td>\n",
       "      <td>60.6</td>\n",
       "      <td>5</td>\n",
       "      <td>0.673</td>\n",
       "    </tr>\n",
       "    <tr>\n",
       "      <th>3</th>\n",
       "      <td>Oklahoma City Thunder</td>\n",
       "      <td>2023-24</td>\n",
       "      <td>119.2</td>\n",
       "      <td>4</td>\n",
       "      <td>111.9</td>\n",
       "      <td>4</td>\n",
       "      <td>7.3</td>\n",
       "      <td>2</td>\n",
       "      <td>61.2</td>\n",
       "      <td>17</td>\n",
       "      <td>2.18</td>\n",
       "      <td>3</td>\n",
       "      <td>57.5</td>\n",
       "      <td>2</td>\n",
       "      <td>61.2</td>\n",
       "      <td>1</td>\n",
       "      <td>0.685</td>\n",
       "    </tr>\n",
       "    <tr>\n",
       "      <th>4</th>\n",
       "      <td>Milwaukee Bucks</td>\n",
       "      <td>2023-24</td>\n",
       "      <td>119.1</td>\n",
       "      <td>5</td>\n",
       "      <td>115.9</td>\n",
       "      <td>14</td>\n",
       "      <td>3.2</td>\n",
       "      <td>10</td>\n",
       "      <td>60.7</td>\n",
       "      <td>19</td>\n",
       "      <td>2.08</td>\n",
       "      <td>7</td>\n",
       "      <td>57.4</td>\n",
       "      <td>3</td>\n",
       "      <td>60.8</td>\n",
       "      <td>4</td>\n",
       "      <td>0.636</td>\n",
       "    </tr>\n",
       "  </tbody>\n",
       "</table>\n",
       "</div>"
      ],
      "text/plain": [
       "               team_name   season  reg_off_rtg  reg_off_rtg_rank  reg_def_rtg   \n",
       "0         Indiana Pacers  2023-24        120.5                 1        119.2  \\\n",
       "1         Boston Celtics  2023-24        120.4                 2        110.9   \n",
       "2            LA Clippers  2023-24        119.6                 3        114.2   \n",
       "3  Oklahoma City Thunder  2023-24        119.2                 4        111.9   \n",
       "4        Milwaukee Bucks  2023-24        119.1                 5        115.9   \n",
       "\n",
       "   reg_def_rtg_rank  reg_net_rtg  reg_net_rtg_rank  reg_fg_ast%   \n",
       "0                23          1.3                13         65.9  \\\n",
       "1                 3          9.5                 1         60.3   \n",
       "2                11          5.4                 5         60.4   \n",
       "3                 4          7.3                 2         61.2   \n",
       "4                14          3.2                10         60.7   \n",
       "\n",
       "   reg_fg_ast%_rank  reg_ast_to_ratio  reg_ast_to_ratio_rank  reg_eff_fg%   \n",
       "0                 4              2.28                      1         58.2  \\\n",
       "1                21              2.07                      8         56.9   \n",
       "2                20              2.00                     13         56.9   \n",
       "3                17              2.18                      3         57.5   \n",
       "4                19              2.08                      7         57.4   \n",
       "\n",
       "   reg_eff_fg%_rank  reg_ts%  reg_ts%_rank   win%  \n",
       "0                 1     61.0             2  0.545  \n",
       "1                 4     60.3             6  0.778  \n",
       "2                 4     60.6             5  0.673  \n",
       "3                 2     61.2             1  0.685  \n",
       "4                 3     60.8             4  0.636  "
      ]
     },
     "execution_count": 498,
     "metadata": {},
     "output_type": "execute_result"
    }
   ],
   "source": [
    "champions['reg_off_rtg_rank'] = champions.groupby('season')['reg_off_rtg'].rank(method='dense', ascending=False).astype(int)\n",
    "champions['reg_def_rtg_rank'] = champions.groupby('season')['reg_def_rtg'].rank(method='dense', ascending=True).astype(int)\n",
    "champions['reg_net_rtg_rank'] = champions.groupby('season')['reg_net_rtg'].rank(method='dense', ascending=False).astype(int)\n",
    "champions['reg_fg_ast%_rank'] = champions.groupby('season')['reg_fg_ast%'].rank(method='dense', ascending=False).astype(int)\n",
    "champions['reg_ast_to_ratio_rank'] = champions.groupby('season')['reg_ast_to_ratio'].rank(method='dense', ascending=False).astype(int)\n",
    "champions['reg_eff_fg%_rank'] = champions.groupby('season')['reg_eff_fg%'].rank(method='dense', ascending=False).astype(int)\n",
    "champions['reg_ts%_rank'] = champions.groupby('season')['reg_ts%'].rank(method='dense', ascending=False).astype(int)\n",
    "champions['win%'] = round(champions['W']/(champions['W'] + champions['L']), 3)\n",
    "champions = champions[['team_name', 'season', 'reg_off_rtg', 'reg_off_rtg_rank', 'reg_def_rtg', 'reg_def_rtg_rank', 'reg_net_rtg', 'reg_net_rtg_rank', 'reg_fg_ast%', 'reg_fg_ast%_rank', 'reg_ast_to_ratio', 'reg_ast_to_ratio_rank', 'reg_eff_fg%', 'reg_eff_fg%_rank', 'reg_ts%', 'reg_ts%_rank', 'win%']]\n",
    "champions.head(5)"
   ]
  },
  {
   "cell_type": "code",
   "execution_count": 499,
   "metadata": {},
   "outputs": [],
   "source": [
    "import numpy as np\n",
    "\n",
    "champions['playoff_score'] = np.where((champions['season'] == '2022-23') & (champions['team_name'] == 'Denver Nuggets') , 5, \\\n",
    "                    np.where((champions['season'] == '2021-22') & (champions['team_name'] == 'Golden State Warriors'), 5, \\\n",
    "                    np.where((champions['season'] == '2020-21') & (champions['team_name'] == 'Milwaukee Bucks'), 5, \\\n",
    "                    np.where((champions['season'] == '2019-20') & (champions['team_name'] == 'Los Angeles Lakers'), 5, \\\n",
    "                    np.where((champions['season'] == '2018-19') & (champions['team_name'] == 'Toronto Raptors'), 5, \\\n",
    "                    np.where((champions['season'] == '2017-18') & (champions['team_name'] == 'Golden State Warriors'), 5, \\\n",
    "                    np.where((champions['season'] == '2016-17') & (champions['team_name'] == 'Golden State Warriors'), 5, \\\n",
    "                    np.where((champions['season'] == '2015-16') & (champions['team_name'] == 'Cleveland Cavaliers'), 5, \\\n",
    "                    np.where((champions['season'] == '2014-15') & (champions['team_name'] == 'Golden State Warriors'), 5, \\\n",
    "                    np.where((champions['season'] == '2013-14') & (champions['team_name'] == 'San Antonio Spurs'), 5, \\\n",
    "                    np.where((champions['season'] == '2012-13') & (champions['team_name'] == 'Miami Heat'), 5, \\\n",
    "                    np.where((champions['season'] == '2011-12') & (champions['team_name'] == 'Miami Heat'), 5, \\\n",
    "                    np.where((champions['season'] == '2010-11') & (champions['team_name'] == 'Dallas Mavericks'), 5, \\\n",
    "                    np.where((champions['season'] == '2009-10') & (champions['team_name'] == 'Los Angeles Lakers'), 5, \\\n",
    "                    np.where((champions['season'] == '2008-09') & (champions['team_name'] == 'Los Angeles Lakers'), 5, \\\n",
    "                    np.where((champions['season'] == '2007-08') & (champions['team_name'] == 'Boston Celtics'), 5, \\\n",
    "                    np.where((champions['season'] == '2006-07') & (champions['team_name'] == 'San Antonio Spurs'), 5, \\\n",
    "                    np.where((champions['season'] == '2005-06') & (champions['team_name'] == 'Miami Heat'), 5, \\\n",
    "                    np.where((champions['season'] == '2004-05') & (champions['team_name'] == 'San Antonio Spurs'), 5, \\\n",
    "                    np.where((champions['season'] == '2003-04') & (champions['team_name'] == 'Detroit Pistons'), 5, \\\n",
    "                    np.where((champions['season'] == '2022-23') & (champions['team_name'] == 'Miami Heat') , 4, \\\n",
    "                    np.where((champions['season'] == '2022-23') & (champions['team_name'] == 'Los Angeles Lakers'), 3, \\\n",
    "                    np.where((champions['season'] == '2022-23') & (champions['team_name'] == 'Boston Celtics'), 3, \\\n",
    "                    np.where((champions['season'] == '2022-23') & (champions['team_name'] == 'New York Knicks'), 2, \\\n",
    "                    np.where((champions['season'] == '2022-23') & (champions['team_name'] == 'Philadelphia 76ers'), 2, \\\n",
    "                    np.where((champions['season'] == '2022-23') & (champions['team_name'] == 'Golden State Warriors'), 2, \\\n",
    "                    np.where((champions['season'] == '2022-23') & (champions['team_name'] == 'Phoenix Suns'), 2, \\\n",
    "                    np.where((champions['season'] == '2022-23') & (champions['team_name'] == 'Sacramento Kings'), 1, \\\n",
    "                    np.where((champions['season'] == '2022-23') & (champions['team_name'] == 'Milwaukee Bucks'), 1, \\\n",
    "                    np.where((champions['season'] == '2022-23') & (champions['team_name'] == 'Atlanta Hawks'), 1, \\\n",
    "                    np.where((champions['season'] == '2022-23') & (champions['team_name'] == 'Minnesota Timberwolves'), 1, \\\n",
    "                    np.where((champions['season'] == '2022-23') & (champions['team_name'] == 'LA Clippers'), 1, \\\n",
    "                    np.where((champions['season'] == '2022-23') & (champions['team_name'] == 'Brooklyn Nets'), 1, \\\n",
    "                    np.where((champions['season'] == '2022-23') & (champions['team_name'] == 'Cleveland Cavaliers'), 1, \\\n",
    "                    np.where((champions['season'] == '2022-23') & (champions['team_name'] == 'Memphis Grizzlies'), 1, \\\n",
    "                    np.where((champions['season'] == '2021-22') & (champions['team_name'] == 'Boston Celtics'), 4, \\\n",
    "                    np.where((champions['season'] == '2021-22') & (champions['team_name'] == 'Miami Heat'), 3, \\\n",
    "                    np.where((champions['season'] == '2021-22') & (champions['team_name'] == 'Dallas Mavericks'), 3, \\\n",
    "                    np.where((champions['season'] == '2021-22') & (champions['team_name'] == 'Memphis Grizzlies'), 2, \\\n",
    "                    np.where((champions['season'] == '2021-22') & (champions['team_name'] == 'Phoenix Suns'), 2, \\\n",
    "                    np.where((champions['season'] == '2021-22') & (champions['team_name'] == 'Milwaukee Bucks'), 2, \\\n",
    "                    np.where((champions['season'] == '2021-22') & (champions['team_name'] == 'Philadelphia 76ers'), 2, \\\n",
    "                    np.where((champions['season'] == '2021-22') & (champions['team_name'] == 'Atlanta Hawks'), 1, \\\n",
    "                    np.where((champions['season'] == '2021-22') & (champions['team_name'] == 'Toronto Raptors'), 1, \\\n",
    "                    np.where((champions['season'] == '2021-22') & (champions['team_name'] == 'Chicago Bulls'), 1, \\\n",
    "                    np.where((champions['season'] == '2021-22') & (champions['team_name'] == 'Brooklyn Nets'), 1, \\\n",
    "                    np.where((champions['season'] == '2021-22') & (champions['team_name'] == 'New Orleans Pelicans'), 1, \\\n",
    "                    np.where((champions['season'] == '2021-22') & (champions['team_name'] == 'Utah Jazz'), 1, \\\n",
    "                    np.where((champions['season'] == '2021-22') & (champions['team_name'] == 'Denver Nuggets'), 1, \\\n",
    "                    np.where((champions['season'] == '2020-21') & (champions['team_name'] == 'Phoenix Suns'), 4, \\\n",
    "                    np.where((champions['season'] == '2020-21') & (champions['team_name'] == 'Atlanta Hawks'), 3, \\\n",
    "                    np.where((champions['season'] == '2020-21') & (champions['team_name'] == 'LA Clippers'), 3, \\\n",
    "                    np.where((champions['season'] == '2020-21') & (champions['team_name'] == 'Denver Nuggets'), 2, \\\n",
    "                    np.where((champions['season'] == '2020-21') & (champions['team_name'] == 'Utah Jazz'), 2, \\\n",
    "                    np.where((champions['season'] == '2020-21') & (champions['team_name'] == 'Brooklyn Nets'), 2, \\\n",
    "                    np.where((champions['season'] == '2020-21') & (champions['team_name'] == 'Philadelphia 76ers'), 2, \\\n",
    "                    np.where((champions['season'] == '2020-21') & (champions['team_name'] == 'Washington Wizards'), 1, \\\n",
    "                    np.where((champions['season'] == '2020-21') & (champions['team_name'] == 'New York Knicks'), 1, \\\n",
    "                    np.where((champions['season'] == '2020-21') & (champions['team_name'] == 'Miami Heat'), 1, \\\n",
    "                    np.where((champions['season'] == '2020-21') & (champions['team_name'] == 'Boston Celtics'), 1, \\\n",
    "                    np.where((champions['season'] == '2020-21') & (champions['team_name'] == 'Memphis Grizzlies'), 1, \\\n",
    "                    np.where((champions['season'] == '2020-21') & (champions['team_name'] == 'Dallas Mavericks'), 1, \\\n",
    "                    np.where((champions['season'] == '2020-21') & (champions['team_name'] == 'Portland Trail Blazers'), 1, \\\n",
    "                    np.where((champions['season'] == '2020-21') & (champions['team_name'] == 'Los Angeles Lakers'), 1, 0))))))))))))))))))))))))))))))))))))))))))))))))))))))))))))))))\n",
    "playoff_contenders = champions[champions['playoff_score'] > 0].sort_values(by=['playoff_score', 'season'], ascending=[False, False])\n",
    "champions = playoff_contenders[playoff_contenders['playoff_score'] == 5]\n",
    "champions['season'] = '\"' + champions['season'] + '\"'"
   ]
  },
  {
   "cell_type": "code",
   "execution_count": 511,
   "metadata": {},
   "outputs": [
    {
     "data": {
      "application/vnd.plotly.v1+json": {
       "config": {
        "plotlyServerURL": "https://plotly.com"
       },
       "data": [
        {
         "hovertemplate": "<b>Offensive Rating Rank</b>: %{y}<br><b>Season</b>: %{x}<br><b>Team</b>: %{text}",
         "name": "",
         "text": [
          "Denver Nuggets",
          "Golden State Warriors",
          "Milwaukee Bucks",
          "Los Angeles Lakers",
          "Toronto Raptors",
          "Golden State Warriors",
          "Golden State Warriors",
          "Cleveland Cavaliers",
          "Golden State Warriors",
          "San Antonio Spurs",
          "Miami Heat",
          "Miami Heat",
          "Dallas Mavericks",
          "Los Angeles Lakers",
          "Los Angeles Lakers",
          "Boston Celtics",
          "San Antonio Spurs",
          "Miami Heat",
          "San Antonio Spurs",
          "Detroit Pistons"
         ],
         "type": "scatter",
         "x": [
          "\"2022-23\"",
          "\"2021-22\"",
          "\"2020-21\"",
          "\"2019-20\"",
          "\"2018-19\"",
          "\"2017-18\"",
          "\"2016-17\"",
          "\"2015-16\"",
          "\"2014-15\"",
          "\"2013-14\"",
          "\"2012-13\"",
          "\"2011-12\"",
          "\"2010-11\"",
          "\"2009-10\"",
          "\"2008-09\"",
          "\"2007-08\"",
          "\"2006-07\"",
          "\"2005-06\"",
          "\"2004-05\"",
          "\"2003-04\""
         ],
         "xaxis": "x",
         "y": [
          4,
          11,
          4,
          9,
          5,
          3,
          1,
          3,
          2,
          5,
          1,
          6,
          8,
          11,
          3,
          9,
          4,
          7,
          8,
          16
         ],
         "yaxis": "y"
        },
        {
         "hovertemplate": "<b>Pts. Off TOs Rank</b>: %{y}<br><b>Season</b>: %{x}<br><b>Team</b>: %{text}",
         "name": "",
         "text": [
          "Detroit Pistons",
          "San Antonio Spurs",
          "Miami Heat",
          "San Antonio Spurs",
          "Boston Celtics",
          "Los Angeles Lakers",
          "Los Angeles Lakers",
          "Dallas Mavericks",
          "Miami Heat",
          "Miami Heat",
          "San Antonio Spurs",
          "Golden State Warriors",
          "Cleveland Cavaliers",
          "Golden State Warriors",
          "Golden State Warriors",
          "Toronto Raptors",
          "Los Angeles Lakers",
          "Milwaukee Bucks",
          "Golden State Warriors",
          "Denver Nuggets"
         ],
         "type": "scatter",
         "x": [
          "\"2003-04\"",
          "\"2004-05\"",
          "\"2005-06\"",
          "\"2006-07\"",
          "\"2007-08\"",
          "\"2008-09\"",
          "\"2009-10\"",
          "\"2010-11\"",
          "\"2011-12\"",
          "\"2012-13\"",
          "\"2013-14\"",
          "\"2014-15\"",
          "\"2015-16\"",
          "\"2016-17\"",
          "\"2017-18\"",
          "\"2018-19\"",
          "\"2019-20\"",
          "\"2020-21\"",
          "\"2021-22\"",
          "\"2022-23\""
         ],
         "xaxis": "x2",
         "y": [
          10,
          13,
          17,
          12,
          2,
          2,
          12,
          17,
          1,
          3,
          13,
          1,
          12,
          1,
          5,
          9,
          3,
          10,
          6,
          17
         ],
         "yaxis": "y2"
        },
        {
         "hovertemplate": "<b>Defensive Rating</b>: %{y}<br><b>Season</b>: %{x}<br><b>Team</b>: %{text}",
         "name": "",
         "text": [
          "Denver Nuggets",
          "Golden State Warriors",
          "Milwaukee Bucks",
          "Los Angeles Lakers",
          "Toronto Raptors",
          "Golden State Warriors",
          "Golden State Warriors",
          "Cleveland Cavaliers",
          "Golden State Warriors",
          "San Antonio Spurs",
          "Miami Heat",
          "Miami Heat",
          "Dallas Mavericks",
          "Los Angeles Lakers",
          "Los Angeles Lakers",
          "Boston Celtics",
          "San Antonio Spurs",
          "Miami Heat",
          "San Antonio Spurs",
          "Detroit Pistons"
         ],
         "type": "scatter",
         "x": [
          "\"2022-23\"",
          "\"2021-22\"",
          "\"2020-21\"",
          "\"2019-20\"",
          "\"2018-19\"",
          "\"2017-18\"",
          "\"2016-17\"",
          "\"2015-16\"",
          "\"2014-15\"",
          "\"2013-14\"",
          "\"2012-13\"",
          "\"2011-12\"",
          "\"2010-11\"",
          "\"2009-10\"",
          "\"2008-09\"",
          "\"2007-08\"",
          "\"2006-07\"",
          "\"2005-06\"",
          "\"2004-05\"",
          "\"2003-04\""
         ],
         "xaxis": "x3",
         "y": [
          13,
          2,
          9,
          3,
          5,
          10,
          2,
          9,
          1,
          3,
          9,
          3,
          8,
          3,
          5,
          1,
          2,
          10,
          1,
          2
         ],
         "yaxis": "y3"
        },
        {
         "hovertemplate": "<b>2nd Chance Pts. Rank</b>: %{y}<br><b>Season</b>: %{x}<br><b>Team</b>: %{text}",
         "name": "",
         "text": [
          "Detroit Pistons",
          "San Antonio Spurs",
          "Miami Heat",
          "San Antonio Spurs",
          "Boston Celtics",
          "Los Angeles Lakers",
          "Los Angeles Lakers",
          "Dallas Mavericks",
          "Miami Heat",
          "Miami Heat",
          "San Antonio Spurs",
          "Golden State Warriors",
          "Cleveland Cavaliers",
          "Golden State Warriors",
          "Golden State Warriors",
          "Toronto Raptors",
          "Los Angeles Lakers",
          "Milwaukee Bucks",
          "Golden State Warriors",
          "Denver Nuggets"
         ],
         "type": "scatter",
         "x": [
          "\"2003-04\"",
          "\"2004-05\"",
          "\"2005-06\"",
          "\"2006-07\"",
          "\"2007-08\"",
          "\"2008-09\"",
          "\"2009-10\"",
          "\"2010-11\"",
          "\"2011-12\"",
          "\"2012-13\"",
          "\"2013-14\"",
          "\"2014-15\"",
          "\"2015-16\"",
          "\"2016-17\"",
          "\"2017-18\"",
          "\"2018-19\"",
          "\"2019-20\"",
          "\"2020-21\"",
          "\"2021-22\"",
          "\"2022-23\""
         ],
         "xaxis": "x4",
         "y": [
          16,
          14,
          7,
          14,
          12,
          1,
          2,
          23,
          15,
          22,
          19,
          15,
          10,
          10,
          26,
          12,
          4,
          10,
          16,
          18
         ],
         "yaxis": "y4"
        },
        {
         "hovertemplate": "<b>Net Rating</b>: %{y}<br><b>Season</b>: %{x}<br><b>Team</b>: %{text}",
         "name": "",
         "text": [
          "Denver Nuggets",
          "Golden State Warriors",
          "Milwaukee Bucks",
          "Los Angeles Lakers",
          "Toronto Raptors",
          "Golden State Warriors",
          "Golden State Warriors",
          "Cleveland Cavaliers",
          "Golden State Warriors",
          "San Antonio Spurs",
          "Miami Heat",
          "Miami Heat",
          "Dallas Mavericks",
          "Los Angeles Lakers",
          "Los Angeles Lakers",
          "Boston Celtics",
          "San Antonio Spurs",
          "Miami Heat",
          "San Antonio Spurs",
          "Detroit Pistons"
         ],
         "type": "scatter",
         "x": [
          "\"2022-23\"",
          "\"2021-22\"",
          "\"2020-21\"",
          "\"2019-20\"",
          "\"2018-19\"",
          "\"2017-18\"",
          "\"2016-17\"",
          "\"2015-16\"",
          "\"2014-15\"",
          "\"2013-14\"",
          "\"2012-13\"",
          "\"2011-12\"",
          "\"2010-11\"",
          "\"2009-10\"",
          "\"2008-09\"",
          "\"2007-08\"",
          "\"2006-07\"",
          "\"2005-06\"",
          "\"2004-05\"",
          "\"2003-04\""
         ],
         "xaxis": "x5",
         "y": [
          6,
          4,
          4,
          4,
          3,
          3,
          1,
          4,
          1,
          1,
          2,
          3,
          7,
          5,
          2,
          1,
          1,
          5,
          1,
          2
         ],
         "yaxis": "y5"
        },
        {
         "hovertemplate": "<b>Fast Break Pts. Rank</b>: %{y}<br><b>Season</b>: %{x}<br><b>Team</b>: %{text}",
         "name": "",
         "text": [
          "Detroit Pistons",
          "San Antonio Spurs",
          "Miami Heat",
          "San Antonio Spurs",
          "Boston Celtics",
          "Los Angeles Lakers",
          "Los Angeles Lakers",
          "Dallas Mavericks",
          "Miami Heat",
          "Miami Heat",
          "San Antonio Spurs",
          "Golden State Warriors",
          "Cleveland Cavaliers",
          "Golden State Warriors",
          "Golden State Warriors",
          "Toronto Raptors",
          "Los Angeles Lakers",
          "Milwaukee Bucks",
          "Golden State Warriors",
          "Denver Nuggets"
         ],
         "type": "scatter",
         "x": [
          "\"2003-04\"",
          "\"2004-05\"",
          "\"2005-06\"",
          "\"2006-07\"",
          "\"2007-08\"",
          "\"2008-09\"",
          "\"2009-10\"",
          "\"2010-11\"",
          "\"2011-12\"",
          "\"2012-13\"",
          "\"2013-14\"",
          "\"2014-15\"",
          "\"2015-16\"",
          "\"2016-17\"",
          "\"2017-18\"",
          "\"2018-19\"",
          "\"2019-20\"",
          "\"2020-21\"",
          "\"2021-22\"",
          "\"2022-23\""
         ],
         "xaxis": "x6",
         "y": [
          12,
          10,
          10,
          16,
          20,
          10,
          19,
          9,
          10,
          18,
          13,
          1,
          17,
          1,
          1,
          4,
          2,
          4,
          7,
          5
         ],
         "yaxis": "y6"
        },
        {
         "hovertemplate": "<b>FG Assist % Rank</b>: %{y}<br><b>Season</b>: %{x}<br><b>Team</b>: %{text}",
         "name": "",
         "text": [
          "Denver Nuggets",
          "Golden State Warriors",
          "Milwaukee Bucks",
          "Los Angeles Lakers",
          "Toronto Raptors",
          "Golden State Warriors",
          "Golden State Warriors",
          "Cleveland Cavaliers",
          "Golden State Warriors",
          "San Antonio Spurs",
          "Miami Heat",
          "Miami Heat",
          "Dallas Mavericks",
          "Los Angeles Lakers",
          "Los Angeles Lakers",
          "Boston Celtics",
          "San Antonio Spurs",
          "Miami Heat",
          "San Antonio Spurs",
          "Detroit Pistons"
         ],
         "type": "scatter",
         "x": [
          "\"2022-23\"",
          "\"2021-22\"",
          "\"2020-21\"",
          "\"2019-20\"",
          "\"2018-19\"",
          "\"2017-18\"",
          "\"2016-17\"",
          "\"2015-16\"",
          "\"2014-15\"",
          "\"2013-14\"",
          "\"2012-13\"",
          "\"2011-12\"",
          "\"2010-11\"",
          "\"2009-10\"",
          "\"2008-09\"",
          "\"2007-08\"",
          "\"2006-07\"",
          "\"2005-06\"",
          "\"2004-05\"",
          "\"2003-04\""
         ],
         "xaxis": "x7",
         "y": [
          2,
          1,
          22,
          15,
          12,
          1,
          1,
          14,
          2,
          5,
          11,
          23,
          1,
          19,
          8,
          6,
          8,
          17,
          12,
          10
         ],
         "yaxis": "y7"
        },
        {
         "hovertemplate": "<b>Pts. in Paint Rank</b>: %{y}<br><b>Season</b>: %{x}<br><b>Team</b>: %{text}",
         "name": "",
         "text": [
          "Detroit Pistons",
          "San Antonio Spurs",
          "Miami Heat",
          "San Antonio Spurs",
          "Boston Celtics",
          "Los Angeles Lakers",
          "Los Angeles Lakers",
          "Dallas Mavericks",
          "Miami Heat",
          "Miami Heat",
          "San Antonio Spurs",
          "Golden State Warriors",
          "Cleveland Cavaliers",
          "Golden State Warriors",
          "Golden State Warriors",
          "Toronto Raptors",
          "Los Angeles Lakers",
          "Milwaukee Bucks",
          "Golden State Warriors",
          "Denver Nuggets"
         ],
         "type": "scatter",
         "x": [
          "\"2003-04\"",
          "\"2004-05\"",
          "\"2005-06\"",
          "\"2006-07\"",
          "\"2007-08\"",
          "\"2008-09\"",
          "\"2009-10\"",
          "\"2010-11\"",
          "\"2011-12\"",
          "\"2012-13\"",
          "\"2013-14\"",
          "\"2014-15\"",
          "\"2015-16\"",
          "\"2016-17\"",
          "\"2017-18\"",
          "\"2018-19\"",
          "\"2019-20\"",
          "\"2020-21\"",
          "\"2021-22\"",
          "\"2022-23\""
         ],
         "xaxis": "x8",
         "y": [
          12,
          5,
          1,
          13,
          19,
          2,
          8,
          25,
          7,
          14,
          7,
          2,
          19,
          7,
          16,
          17,
          2,
          12,
          23,
          4
         ],
         "yaxis": "y8"
        },
        {
         "hovertemplate": "<b>Assist/Turnover Ratio</b>: %{y}<br><b>Season</b>: %{x}<br>",
         "name": "",
         "type": "scatter",
         "x": [
          "\"2022-23\"",
          "\"2021-22\"",
          "\"2020-21\"",
          "\"2019-20\"",
          "\"2018-19\"",
          "\"2017-18\"",
          "\"2016-17\"",
          "\"2015-16\"",
          "\"2014-15\"",
          "\"2013-14\"",
          "\"2012-13\"",
          "\"2011-12\"",
          "\"2010-11\"",
          "\"2009-10\"",
          "\"2008-09\"",
          "\"2007-08\"",
          "\"2006-07\"",
          "\"2005-06\"",
          "\"2004-05\"",
          "\"2003-04\""
         ],
         "xaxis": "x9",
         "y": [
          5,
          10,
          12,
          12,
          10,
          1,
          1,
          7,
          2,
          3,
          4,
          20,
          3,
          9,
          3,
          16,
          5,
          10,
          9,
          15
         ],
         "yaxis": "y9"
        },
        {
         "hovertemplate": "<b>Opp. Pts. Off TOs Rank</b>: %{y}<br><b>Season</b>: %{x}<br><b>Team</b>: %{text}",
         "name": "",
         "text": [
          "Detroit Pistons",
          "San Antonio Spurs",
          "Miami Heat",
          "San Antonio Spurs",
          "Boston Celtics",
          "Los Angeles Lakers",
          "Los Angeles Lakers",
          "Dallas Mavericks",
          "Miami Heat",
          "Miami Heat",
          "San Antonio Spurs",
          "Golden State Warriors",
          "Cleveland Cavaliers",
          "Golden State Warriors",
          "Golden State Warriors",
          "Toronto Raptors",
          "Los Angeles Lakers",
          "Milwaukee Bucks",
          "Golden State Warriors",
          "Denver Nuggets"
         ],
         "type": "scatter",
         "x": [
          "\"2003-04\"",
          "\"2004-05\"",
          "\"2005-06\"",
          "\"2006-07\"",
          "\"2007-08\"",
          "\"2008-09\"",
          "\"2009-10\"",
          "\"2010-11\"",
          "\"2011-12\"",
          "\"2012-13\"",
          "\"2013-14\"",
          "\"2014-15\"",
          "\"2015-16\"",
          "\"2016-17\"",
          "\"2017-18\"",
          "\"2018-19\"",
          "\"2019-20\"",
          "\"2020-21\"",
          "\"2021-22\"",
          "\"2022-23\""
         ],
         "xaxis": "x10",
         "y": [
          4,
          3,
          17,
          6,
          13,
          9,
          6,
          8,
          10,
          6,
          8,
          7,
          10,
          17,
          19,
          10,
          16,
          9,
          17,
          16
         ],
         "yaxis": "y10"
        },
        {
         "hovertemplate": "<b>Effective FG %</b>: %{y}<br><b>Season</b>: %{x}<br>",
         "name": "",
         "type": "scatter",
         "x": [
          "\"2022-23\"",
          "\"2021-22\"",
          "\"2020-21\"",
          "\"2019-20\"",
          "\"2018-19\"",
          "\"2017-18\"",
          "\"2016-17\"",
          "\"2015-16\"",
          "\"2014-15\"",
          "\"2013-14\"",
          "\"2012-13\"",
          "\"2011-12\"",
          "\"2010-11\"",
          "\"2009-10\"",
          "\"2008-09\"",
          "\"2007-08\"",
          "\"2006-07\"",
          "\"2005-06\"",
          "\"2004-05\"",
          "\"2003-04\""
         ],
         "xaxis": "x11",
         "y": [
          1,
          3,
          2,
          5,
          3,
          1,
          1,
          3,
          1,
          2,
          1,
          4,
          3,
          12,
          5,
          5,
          2,
          2,
          6,
          17
         ],
         "yaxis": "y11"
        },
        {
         "hovertemplate": "<b>Opp. 2nd Chance Pts. Rank</b>: %{y}<br><b>Season</b>: %{x}<br><b>Team</b>: %{text}",
         "name": "",
         "text": [
          "Detroit Pistons",
          "San Antonio Spurs",
          "Miami Heat",
          "San Antonio Spurs",
          "Boston Celtics",
          "Los Angeles Lakers",
          "Los Angeles Lakers",
          "Dallas Mavericks",
          "Miami Heat",
          "Miami Heat",
          "San Antonio Spurs",
          "Golden State Warriors",
          "Cleveland Cavaliers",
          "Golden State Warriors",
          "Golden State Warriors",
          "Toronto Raptors",
          "Los Angeles Lakers",
          "Milwaukee Bucks",
          "Golden State Warriors",
          "Denver Nuggets"
         ],
         "type": "scatter",
         "x": [
          "\"2003-04\"",
          "\"2004-05\"",
          "\"2005-06\"",
          "\"2006-07\"",
          "\"2007-08\"",
          "\"2008-09\"",
          "\"2009-10\"",
          "\"2010-11\"",
          "\"2011-12\"",
          "\"2012-13\"",
          "\"2013-14\"",
          "\"2014-15\"",
          "\"2015-16\"",
          "\"2016-17\"",
          "\"2017-18\"",
          "\"2018-19\"",
          "\"2019-20\"",
          "\"2020-21\"",
          "\"2021-22\"",
          "\"2022-23\""
         ],
         "xaxis": "x12",
         "y": [
          7,
          3,
          4,
          8,
          5,
          13,
          7,
          6,
          12,
          20,
          6,
          17,
          3,
          22,
          19,
          10,
          5,
          10,
          5,
          8
         ],
         "yaxis": "y12"
        },
        {
         "hovertemplate": "<b>True Shooting %</b>: %{y}<br><b>Season</b>: %{x}<br>",
         "name": "",
         "type": "scatter",
         "x": [
          "\"2022-23\"",
          "\"2021-22\"",
          "\"2020-21\"",
          "\"2019-20\"",
          "\"2018-19\"",
          "\"2017-18\"",
          "\"2016-17\"",
          "\"2015-16\"",
          "\"2014-15\"",
          "\"2013-14\"",
          "\"2012-13\"",
          "\"2011-12\"",
          "\"2010-11\"",
          "\"2009-10\"",
          "\"2008-09\"",
          "\"2007-08\"",
          "\"2006-07\"",
          "\"2005-06\"",
          "\"2004-05\"",
          "\"2003-04\""
         ],
         "xaxis": "x13",
         "y": [
          2,
          4,
          4,
          9,
          4,
          1,
          1,
          4,
          1,
          2,
          1,
          4,
          4,
          12,
          6,
          5,
          2,
          2,
          9,
          13
         ],
         "yaxis": "y13"
        },
        {
         "hovertemplate": "<b>Opp. Fast Break Pts. Rank</b>: %{y}<br><b>Season</b>: %{x}<br><b>Team</b>: %{text}",
         "name": "",
         "text": [
          "Detroit Pistons",
          "San Antonio Spurs",
          "Miami Heat",
          "San Antonio Spurs",
          "Boston Celtics",
          "Los Angeles Lakers",
          "Los Angeles Lakers",
          "Dallas Mavericks",
          "Miami Heat",
          "Miami Heat",
          "San Antonio Spurs",
          "Golden State Warriors",
          "Cleveland Cavaliers",
          "Golden State Warriors",
          "Golden State Warriors",
          "Toronto Raptors",
          "Los Angeles Lakers",
          "Milwaukee Bucks",
          "Golden State Warriors",
          "Denver Nuggets"
         ],
         "type": "scatter",
         "x": [
          "\"2003-04\"",
          "\"2004-05\"",
          "\"2005-06\"",
          "\"2006-07\"",
          "\"2007-08\"",
          "\"2008-09\"",
          "\"2009-10\"",
          "\"2010-11\"",
          "\"2011-12\"",
          "\"2012-13\"",
          "\"2013-14\"",
          "\"2014-15\"",
          "\"2015-16\"",
          "\"2016-17\"",
          "\"2017-18\"",
          "\"2018-19\"",
          "\"2019-20\"",
          "\"2020-21\"",
          "\"2021-22\"",
          "\"2022-23\""
         ],
         "xaxis": "x14",
         "y": [
          2,
          4,
          16,
          6,
          1,
          7,
          6,
          13,
          5,
          2,
          8,
          19,
          6,
          21,
          18,
          13,
          23,
          3,
          12,
          11
         ],
         "yaxis": "y14"
        }
       ],
       "layout": {
        "annotations": [
         {
          "font": {
           "size": 16
          },
          "showarrow": false,
          "text": "Offensive Rating Rank",
          "x": 0.2061224489795918,
          "xanchor": "center",
          "xref": "paper",
          "y": 0.9999999999999999,
          "yanchor": "bottom",
          "yref": "paper"
         },
         {
          "font": {
           "size": 16
          },
          "showarrow": false,
          "text": "Pts. Off TOs Rank",
          "x": 0.7938775510204081,
          "xanchor": "center",
          "xref": "paper",
          "y": 0.9999999999999999,
          "yanchor": "bottom",
          "yref": "paper"
         },
         {
          "font": {
           "size": 16
          },
          "showarrow": false,
          "text": "Defensive Rating Rank",
          "x": 0.2061224489795918,
          "xanchor": "center",
          "xref": "paper",
          "y": 0.8537414965986393,
          "yanchor": "bottom",
          "yref": "paper"
         },
         {
          "font": {
           "size": 16
          },
          "showarrow": false,
          "text": "2nd Chance Pts. Rank",
          "x": 0.7938775510204081,
          "xanchor": "center",
          "xref": "paper",
          "y": 0.8537414965986393,
          "yanchor": "bottom",
          "yref": "paper"
         },
         {
          "font": {
           "size": 16
          },
          "showarrow": false,
          "text": "Net Rating Rank",
          "x": 0.2061224489795918,
          "xanchor": "center",
          "xref": "paper",
          "y": 0.7074829931972788,
          "yanchor": "bottom",
          "yref": "paper"
         },
         {
          "font": {
           "size": 16
          },
          "showarrow": false,
          "text": "Fast Break Pts. Rank",
          "x": 0.7938775510204081,
          "xanchor": "center",
          "xref": "paper",
          "y": 0.7074829931972788,
          "yanchor": "bottom",
          "yref": "paper"
         },
         {
          "font": {
           "size": 16
          },
          "showarrow": false,
          "text": "FG Assist % Rank",
          "x": 0.2061224489795918,
          "xanchor": "center",
          "xref": "paper",
          "y": 0.5612244897959183,
          "yanchor": "bottom",
          "yref": "paper"
         },
         {
          "font": {
           "size": 16
          },
          "showarrow": false,
          "text": "Pts. in Paint Rank",
          "x": 0.7938775510204081,
          "xanchor": "center",
          "xref": "paper",
          "y": 0.5612244897959183,
          "yanchor": "bottom",
          "yref": "paper"
         },
         {
          "font": {
           "size": 16
          },
          "showarrow": false,
          "text": "Assist/TO Ratio Rank",
          "x": 0.2061224489795918,
          "xanchor": "center",
          "xref": "paper",
          "y": 0.4149659863945578,
          "yanchor": "bottom",
          "yref": "paper"
         },
         {
          "font": {
           "size": 16
          },
          "showarrow": false,
          "text": "Opp. Pts. Off TOs Rank",
          "x": 0.7938775510204081,
          "xanchor": "center",
          "xref": "paper",
          "y": 0.4149659863945578,
          "yanchor": "bottom",
          "yref": "paper"
         },
         {
          "font": {
           "size": 16
          },
          "showarrow": false,
          "text": "Effective FG % Rank",
          "x": 0.2061224489795918,
          "xanchor": "center",
          "xref": "paper",
          "y": 0.2687074829931973,
          "yanchor": "bottom",
          "yref": "paper"
         },
         {
          "font": {
           "size": 16
          },
          "showarrow": false,
          "text": "Opp. 2nd Chance Pts. Rank",
          "x": 0.7938775510204081,
          "xanchor": "center",
          "xref": "paper",
          "y": 0.2687074829931973,
          "yanchor": "bottom",
          "yref": "paper"
         },
         {
          "font": {
           "size": 16
          },
          "showarrow": false,
          "text": "True Shooting % Rank",
          "x": 0.2061224489795918,
          "xanchor": "center",
          "xref": "paper",
          "y": 0.12244897959183675,
          "yanchor": "bottom",
          "yref": "paper"
         },
         {
          "font": {
           "size": 16
          },
          "showarrow": false,
          "text": "Opp. Fast Break Pts. Rank",
          "x": 0.7938775510204081,
          "xanchor": "center",
          "xref": "paper",
          "y": 0.12244897959183675,
          "yanchor": "bottom",
          "yref": "paper"
         }
        ],
        "height": 1200,
        "showlegend": false,
        "template": {
         "data": {
          "bar": [
           {
            "error_x": {
             "color": "#2a3f5f"
            },
            "error_y": {
             "color": "#2a3f5f"
            },
            "marker": {
             "line": {
              "color": "#E5ECF6",
              "width": 0.5
             },
             "pattern": {
              "fillmode": "overlay",
              "size": 10,
              "solidity": 0.2
             }
            },
            "type": "bar"
           }
          ],
          "barpolar": [
           {
            "marker": {
             "line": {
              "color": "#E5ECF6",
              "width": 0.5
             },
             "pattern": {
              "fillmode": "overlay",
              "size": 10,
              "solidity": 0.2
             }
            },
            "type": "barpolar"
           }
          ],
          "carpet": [
           {
            "aaxis": {
             "endlinecolor": "#2a3f5f",
             "gridcolor": "white",
             "linecolor": "white",
             "minorgridcolor": "white",
             "startlinecolor": "#2a3f5f"
            },
            "baxis": {
             "endlinecolor": "#2a3f5f",
             "gridcolor": "white",
             "linecolor": "white",
             "minorgridcolor": "white",
             "startlinecolor": "#2a3f5f"
            },
            "type": "carpet"
           }
          ],
          "choropleth": [
           {
            "colorbar": {
             "outlinewidth": 0,
             "ticks": ""
            },
            "type": "choropleth"
           }
          ],
          "contour": [
           {
            "colorbar": {
             "outlinewidth": 0,
             "ticks": ""
            },
            "colorscale": [
             [
              0,
              "#0d0887"
             ],
             [
              0.1111111111111111,
              "#46039f"
             ],
             [
              0.2222222222222222,
              "#7201a8"
             ],
             [
              0.3333333333333333,
              "#9c179e"
             ],
             [
              0.4444444444444444,
              "#bd3786"
             ],
             [
              0.5555555555555556,
              "#d8576b"
             ],
             [
              0.6666666666666666,
              "#ed7953"
             ],
             [
              0.7777777777777778,
              "#fb9f3a"
             ],
             [
              0.8888888888888888,
              "#fdca26"
             ],
             [
              1,
              "#f0f921"
             ]
            ],
            "type": "contour"
           }
          ],
          "contourcarpet": [
           {
            "colorbar": {
             "outlinewidth": 0,
             "ticks": ""
            },
            "type": "contourcarpet"
           }
          ],
          "heatmap": [
           {
            "colorbar": {
             "outlinewidth": 0,
             "ticks": ""
            },
            "colorscale": [
             [
              0,
              "#0d0887"
             ],
             [
              0.1111111111111111,
              "#46039f"
             ],
             [
              0.2222222222222222,
              "#7201a8"
             ],
             [
              0.3333333333333333,
              "#9c179e"
             ],
             [
              0.4444444444444444,
              "#bd3786"
             ],
             [
              0.5555555555555556,
              "#d8576b"
             ],
             [
              0.6666666666666666,
              "#ed7953"
             ],
             [
              0.7777777777777778,
              "#fb9f3a"
             ],
             [
              0.8888888888888888,
              "#fdca26"
             ],
             [
              1,
              "#f0f921"
             ]
            ],
            "type": "heatmap"
           }
          ],
          "heatmapgl": [
           {
            "colorbar": {
             "outlinewidth": 0,
             "ticks": ""
            },
            "colorscale": [
             [
              0,
              "#0d0887"
             ],
             [
              0.1111111111111111,
              "#46039f"
             ],
             [
              0.2222222222222222,
              "#7201a8"
             ],
             [
              0.3333333333333333,
              "#9c179e"
             ],
             [
              0.4444444444444444,
              "#bd3786"
             ],
             [
              0.5555555555555556,
              "#d8576b"
             ],
             [
              0.6666666666666666,
              "#ed7953"
             ],
             [
              0.7777777777777778,
              "#fb9f3a"
             ],
             [
              0.8888888888888888,
              "#fdca26"
             ],
             [
              1,
              "#f0f921"
             ]
            ],
            "type": "heatmapgl"
           }
          ],
          "histogram": [
           {
            "marker": {
             "pattern": {
              "fillmode": "overlay",
              "size": 10,
              "solidity": 0.2
             }
            },
            "type": "histogram"
           }
          ],
          "histogram2d": [
           {
            "colorbar": {
             "outlinewidth": 0,
             "ticks": ""
            },
            "colorscale": [
             [
              0,
              "#0d0887"
             ],
             [
              0.1111111111111111,
              "#46039f"
             ],
             [
              0.2222222222222222,
              "#7201a8"
             ],
             [
              0.3333333333333333,
              "#9c179e"
             ],
             [
              0.4444444444444444,
              "#bd3786"
             ],
             [
              0.5555555555555556,
              "#d8576b"
             ],
             [
              0.6666666666666666,
              "#ed7953"
             ],
             [
              0.7777777777777778,
              "#fb9f3a"
             ],
             [
              0.8888888888888888,
              "#fdca26"
             ],
             [
              1,
              "#f0f921"
             ]
            ],
            "type": "histogram2d"
           }
          ],
          "histogram2dcontour": [
           {
            "colorbar": {
             "outlinewidth": 0,
             "ticks": ""
            },
            "colorscale": [
             [
              0,
              "#0d0887"
             ],
             [
              0.1111111111111111,
              "#46039f"
             ],
             [
              0.2222222222222222,
              "#7201a8"
             ],
             [
              0.3333333333333333,
              "#9c179e"
             ],
             [
              0.4444444444444444,
              "#bd3786"
             ],
             [
              0.5555555555555556,
              "#d8576b"
             ],
             [
              0.6666666666666666,
              "#ed7953"
             ],
             [
              0.7777777777777778,
              "#fb9f3a"
             ],
             [
              0.8888888888888888,
              "#fdca26"
             ],
             [
              1,
              "#f0f921"
             ]
            ],
            "type": "histogram2dcontour"
           }
          ],
          "mesh3d": [
           {
            "colorbar": {
             "outlinewidth": 0,
             "ticks": ""
            },
            "type": "mesh3d"
           }
          ],
          "parcoords": [
           {
            "line": {
             "colorbar": {
              "outlinewidth": 0,
              "ticks": ""
             }
            },
            "type": "parcoords"
           }
          ],
          "pie": [
           {
            "automargin": true,
            "type": "pie"
           }
          ],
          "scatter": [
           {
            "fillpattern": {
             "fillmode": "overlay",
             "size": 10,
             "solidity": 0.2
            },
            "type": "scatter"
           }
          ],
          "scatter3d": [
           {
            "line": {
             "colorbar": {
              "outlinewidth": 0,
              "ticks": ""
             }
            },
            "marker": {
             "colorbar": {
              "outlinewidth": 0,
              "ticks": ""
             }
            },
            "type": "scatter3d"
           }
          ],
          "scattercarpet": [
           {
            "marker": {
             "colorbar": {
              "outlinewidth": 0,
              "ticks": ""
             }
            },
            "type": "scattercarpet"
           }
          ],
          "scattergeo": [
           {
            "marker": {
             "colorbar": {
              "outlinewidth": 0,
              "ticks": ""
             }
            },
            "type": "scattergeo"
           }
          ],
          "scattergl": [
           {
            "marker": {
             "colorbar": {
              "outlinewidth": 0,
              "ticks": ""
             }
            },
            "type": "scattergl"
           }
          ],
          "scattermapbox": [
           {
            "marker": {
             "colorbar": {
              "outlinewidth": 0,
              "ticks": ""
             }
            },
            "type": "scattermapbox"
           }
          ],
          "scatterpolar": [
           {
            "marker": {
             "colorbar": {
              "outlinewidth": 0,
              "ticks": ""
             }
            },
            "type": "scatterpolar"
           }
          ],
          "scatterpolargl": [
           {
            "marker": {
             "colorbar": {
              "outlinewidth": 0,
              "ticks": ""
             }
            },
            "type": "scatterpolargl"
           }
          ],
          "scatterternary": [
           {
            "marker": {
             "colorbar": {
              "outlinewidth": 0,
              "ticks": ""
             }
            },
            "type": "scatterternary"
           }
          ],
          "surface": [
           {
            "colorbar": {
             "outlinewidth": 0,
             "ticks": ""
            },
            "colorscale": [
             [
              0,
              "#0d0887"
             ],
             [
              0.1111111111111111,
              "#46039f"
             ],
             [
              0.2222222222222222,
              "#7201a8"
             ],
             [
              0.3333333333333333,
              "#9c179e"
             ],
             [
              0.4444444444444444,
              "#bd3786"
             ],
             [
              0.5555555555555556,
              "#d8576b"
             ],
             [
              0.6666666666666666,
              "#ed7953"
             ],
             [
              0.7777777777777778,
              "#fb9f3a"
             ],
             [
              0.8888888888888888,
              "#fdca26"
             ],
             [
              1,
              "#f0f921"
             ]
            ],
            "type": "surface"
           }
          ],
          "table": [
           {
            "cells": {
             "fill": {
              "color": "#EBF0F8"
             },
             "line": {
              "color": "white"
             }
            },
            "header": {
             "fill": {
              "color": "#C8D4E3"
             },
             "line": {
              "color": "white"
             }
            },
            "type": "table"
           }
          ]
         },
         "layout": {
          "annotationdefaults": {
           "arrowcolor": "#2a3f5f",
           "arrowhead": 0,
           "arrowwidth": 1
          },
          "autotypenumbers": "strict",
          "coloraxis": {
           "colorbar": {
            "outlinewidth": 0,
            "ticks": ""
           }
          },
          "colorscale": {
           "diverging": [
            [
             0,
             "#8e0152"
            ],
            [
             0.1,
             "#c51b7d"
            ],
            [
             0.2,
             "#de77ae"
            ],
            [
             0.3,
             "#f1b6da"
            ],
            [
             0.4,
             "#fde0ef"
            ],
            [
             0.5,
             "#f7f7f7"
            ],
            [
             0.6,
             "#e6f5d0"
            ],
            [
             0.7,
             "#b8e186"
            ],
            [
             0.8,
             "#7fbc41"
            ],
            [
             0.9,
             "#4d9221"
            ],
            [
             1,
             "#276419"
            ]
           ],
           "sequential": [
            [
             0,
             "#0d0887"
            ],
            [
             0.1111111111111111,
             "#46039f"
            ],
            [
             0.2222222222222222,
             "#7201a8"
            ],
            [
             0.3333333333333333,
             "#9c179e"
            ],
            [
             0.4444444444444444,
             "#bd3786"
            ],
            [
             0.5555555555555556,
             "#d8576b"
            ],
            [
             0.6666666666666666,
             "#ed7953"
            ],
            [
             0.7777777777777778,
             "#fb9f3a"
            ],
            [
             0.8888888888888888,
             "#fdca26"
            ],
            [
             1,
             "#f0f921"
            ]
           ],
           "sequentialminus": [
            [
             0,
             "#0d0887"
            ],
            [
             0.1111111111111111,
             "#46039f"
            ],
            [
             0.2222222222222222,
             "#7201a8"
            ],
            [
             0.3333333333333333,
             "#9c179e"
            ],
            [
             0.4444444444444444,
             "#bd3786"
            ],
            [
             0.5555555555555556,
             "#d8576b"
            ],
            [
             0.6666666666666666,
             "#ed7953"
            ],
            [
             0.7777777777777778,
             "#fb9f3a"
            ],
            [
             0.8888888888888888,
             "#fdca26"
            ],
            [
             1,
             "#f0f921"
            ]
           ]
          },
          "colorway": [
           "#636efa",
           "#EF553B",
           "#00cc96",
           "#ab63fa",
           "#FFA15A",
           "#19d3f3",
           "#FF6692",
           "#B6E880",
           "#FF97FF",
           "#FECB52"
          ],
          "font": {
           "color": "#2a3f5f"
          },
          "geo": {
           "bgcolor": "white",
           "lakecolor": "white",
           "landcolor": "#E5ECF6",
           "showlakes": true,
           "showland": true,
           "subunitcolor": "white"
          },
          "hoverlabel": {
           "align": "left"
          },
          "hovermode": "closest",
          "mapbox": {
           "style": "light"
          },
          "paper_bgcolor": "white",
          "plot_bgcolor": "#E5ECF6",
          "polar": {
           "angularaxis": {
            "gridcolor": "white",
            "linecolor": "white",
            "ticks": ""
           },
           "bgcolor": "#E5ECF6",
           "radialaxis": {
            "gridcolor": "white",
            "linecolor": "white",
            "ticks": ""
           }
          },
          "scene": {
           "xaxis": {
            "backgroundcolor": "#E5ECF6",
            "gridcolor": "white",
            "gridwidth": 2,
            "linecolor": "white",
            "showbackground": true,
            "ticks": "",
            "zerolinecolor": "white"
           },
           "yaxis": {
            "backgroundcolor": "#E5ECF6",
            "gridcolor": "white",
            "gridwidth": 2,
            "linecolor": "white",
            "showbackground": true,
            "ticks": "",
            "zerolinecolor": "white"
           },
           "zaxis": {
            "backgroundcolor": "#E5ECF6",
            "gridcolor": "white",
            "gridwidth": 2,
            "linecolor": "white",
            "showbackground": true,
            "ticks": "",
            "zerolinecolor": "white"
           }
          },
          "shapedefaults": {
           "line": {
            "color": "#2a3f5f"
           }
          },
          "ternary": {
           "aaxis": {
            "gridcolor": "white",
            "linecolor": "white",
            "ticks": ""
           },
           "baxis": {
            "gridcolor": "white",
            "linecolor": "white",
            "ticks": ""
           },
           "bgcolor": "#E5ECF6",
           "caxis": {
            "gridcolor": "white",
            "linecolor": "white",
            "ticks": ""
           }
          },
          "title": {
           "x": 0.05
          },
          "xaxis": {
           "automargin": true,
           "gridcolor": "white",
           "linecolor": "white",
           "ticks": "",
           "title": {
            "standoff": 15
           },
           "zerolinecolor": "white",
           "zerolinewidth": 2
          },
          "yaxis": {
           "automargin": true,
           "gridcolor": "white",
           "linecolor": "white",
           "ticks": "",
           "title": {
            "standoff": 15
           },
           "zerolinecolor": "white",
           "zerolinewidth": 2
          }
         }
        },
        "title": {
         "text": "NBA Champions Regular Season Stats (2004-2023)"
        },
        "width": 700,
        "xaxis": {
         "anchor": "y",
         "domain": [
          0,
          0.4122448979591836
         ],
         "showgrid": false,
         "showticklabels": false
        },
        "xaxis10": {
         "anchor": "y10",
         "domain": [
          0.5877551020408163,
          0.9999999999999999
         ],
         "showgrid": false,
         "showticklabels": false
        },
        "xaxis11": {
         "anchor": "y11",
         "domain": [
          0,
          0.4122448979591836
         ],
         "showgrid": false,
         "showticklabels": false
        },
        "xaxis12": {
         "anchor": "y12",
         "domain": [
          0.5877551020408163,
          0.9999999999999999
         ],
         "showgrid": false,
         "showticklabels": false
        },
        "xaxis13": {
         "anchor": "y13",
         "domain": [
          0,
          0.4122448979591836
         ],
         "showgrid": false,
         "showticklabels": false
        },
        "xaxis14": {
         "anchor": "y14",
         "domain": [
          0.5877551020408163,
          0.9999999999999999
         ],
         "showgrid": false,
         "showticklabels": false
        },
        "xaxis2": {
         "anchor": "y2",
         "domain": [
          0.5877551020408163,
          0.9999999999999999
         ],
         "showgrid": false,
         "showticklabels": false
        },
        "xaxis3": {
         "anchor": "y3",
         "domain": [
          0,
          0.4122448979591836
         ],
         "showgrid": false,
         "showticklabels": false
        },
        "xaxis4": {
         "anchor": "y4",
         "domain": [
          0.5877551020408163,
          0.9999999999999999
         ],
         "showgrid": false,
         "showticklabels": false
        },
        "xaxis5": {
         "anchor": "y5",
         "domain": [
          0,
          0.4122448979591836
         ],
         "showgrid": false,
         "showticklabels": false
        },
        "xaxis6": {
         "anchor": "y6",
         "domain": [
          0.5877551020408163,
          0.9999999999999999
         ],
         "showgrid": false,
         "showticklabels": false
        },
        "xaxis7": {
         "anchor": "y7",
         "domain": [
          0,
          0.4122448979591836
         ],
         "showgrid": false,
         "showticklabels": false
        },
        "xaxis8": {
         "anchor": "y8",
         "domain": [
          0.5877551020408163,
          0.9999999999999999
         ],
         "showgrid": false,
         "showticklabels": false
        },
        "xaxis9": {
         "anchor": "y9",
         "domain": [
          0,
          0.4122448979591836
         ],
         "showgrid": false,
         "showticklabels": false
        },
        "yaxis": {
         "anchor": "x",
         "domain": [
          0.8775510204081631,
          0.9999999999999999
         ],
         "overlaying": "y",
         "range": [
          1,
          30
         ],
         "scaleanchor": "y",
         "showgrid": false
        },
        "yaxis10": {
         "anchor": "x10",
         "domain": [
          0.2925170068027211,
          0.4149659863945578
         ],
         "overlaying": "y",
         "range": [
          1,
          30
         ],
         "scaleanchor": "y",
         "showgrid": false
        },
        "yaxis11": {
         "anchor": "x11",
         "domain": [
          0.14625850340136054,
          0.2687074829931973
         ],
         "overlaying": "y",
         "range": [
          1,
          30
         ],
         "scaleanchor": "y",
         "showgrid": false
        },
        "yaxis12": {
         "anchor": "x12",
         "domain": [
          0.14625850340136054,
          0.2687074829931973
         ],
         "overlaying": "y",
         "range": [
          1,
          30
         ],
         "scaleanchor": "y",
         "showgrid": false
        },
        "yaxis13": {
         "anchor": "x13",
         "domain": [
          0,
          0.12244897959183675
         ],
         "overlaying": "y",
         "range": [
          1,
          30
         ],
         "scaleanchor": "y",
         "showgrid": false
        },
        "yaxis14": {
         "anchor": "x14",
         "domain": [
          0,
          0.12244897959183675
         ],
         "overlaying": "y",
         "range": [
          1,
          30
         ],
         "scaleanchor": "y",
         "showgrid": false
        },
        "yaxis2": {
         "anchor": "x2",
         "domain": [
          0.8775510204081631,
          0.9999999999999999
         ],
         "overlaying": "y",
         "range": [
          1,
          30
         ],
         "scaleanchor": "y",
         "showgrid": false
        },
        "yaxis3": {
         "anchor": "x3",
         "domain": [
          0.7312925170068025,
          0.8537414965986393
         ],
         "overlaying": "y",
         "range": [
          1,
          30
         ],
         "scaleanchor": "y",
         "showgrid": false
        },
        "yaxis4": {
         "anchor": "x4",
         "domain": [
          0.7312925170068025,
          0.8537414965986393
         ],
         "overlaying": "y",
         "range": [
          1,
          30
         ],
         "scaleanchor": "y",
         "showgrid": false
        },
        "yaxis5": {
         "anchor": "x5",
         "domain": [
          0.5850340136054422,
          0.7074829931972788
         ],
         "overlaying": "y",
         "range": [
          1,
          30
         ],
         "scaleanchor": "y",
         "showgrid": false
        },
        "yaxis6": {
         "anchor": "x6",
         "domain": [
          0.5850340136054422,
          0.7074829931972788
         ],
         "overlaying": "y",
         "range": [
          1,
          30
         ],
         "scaleanchor": "y",
         "showgrid": false
        },
        "yaxis7": {
         "anchor": "x7",
         "domain": [
          0.43877551020408156,
          0.5612244897959183
         ],
         "overlaying": "y",
         "range": [
          1,
          30
         ],
         "scaleanchor": "y",
         "showgrid": false
        },
        "yaxis8": {
         "anchor": "x8",
         "domain": [
          0.43877551020408156,
          0.5612244897959183
         ],
         "overlaying": "y",
         "range": [
          1,
          30
         ],
         "scaleanchor": "y",
         "showgrid": false
        },
        "yaxis9": {
         "anchor": "x9",
         "domain": [
          0.2925170068027211,
          0.4149659863945578
         ],
         "overlaying": "y",
         "range": [
          1,
          30
         ],
         "scaleanchor": "y",
         "showgrid": false
        }
       }
      }
     },
     "metadata": {},
     "output_type": "display_data"
    }
   ],
   "source": [
    "import plotly.express as px\n",
    "import plotly.graph_objects as go\n",
    "from plotly.subplots import make_subplots\n",
    "from warnings import filterwarnings\n",
    "filterwarnings('ignore')\n",
    "#reg_opp_second_chance_pts_rank, reg_opp_fastbreak_pts_rank, reg_opp_pts_in_paint_rank\n",
    "#champions.sort_values(by=['season'], inplace=True)\n",
    "#champions_misc.sort_values(by=['season'], inplace=True)\n",
    "fig = make_subplots(rows=21, cols=7, subplot_titles=['Offensive Rating Rank', 'Pts. Off TOs Rank','Defensive Rating Rank', '2nd Chance Pts. Rank', 'Net Rating Rank', 'Fast Break Pts. Rank', 'FG Assist % Rank', 'Pts. in Paint Rank', 'Assist/TO Ratio Rank', 'Opp. Pts. Off TOs Rank','Effective FG % Rank', 'Opp. 2nd Chance Pts. Rank', 'True Shooting % Rank', 'Opp. Fast Break Pts. Rank'],  \n",
    "                    specs= [[{\"rowspan\":3, \"colspan\":3}, None, None, None,{\"rowspan\":3, \"colspan\":3}, None, None], \\\n",
    "                        [None, None, None, None, None, None, None],  \n",
    "                        [None, None, None, None, None, None, None],  \n",
    "                        [{\"rowspan\":3, \"colspan\":3}, None, None, None, {\"rowspan\":3, \"colspan\":3}, None, None],  \n",
    "                        [None, None, None, None, None, None, None],  \n",
    "                        [None, None, None, None, None, None, None], \n",
    "                        [{\"rowspan\":3, \"colspan\":3}, None, None, None, {\"rowspan\":3, \"colspan\":3}, None, None],  \n",
    "                        [None, None, None, None, None, None, None],  \n",
    "                        [None, None, None, None, None, None, None],\n",
    "                        [{\"rowspan\":3, \"colspan\":3}, None, None, None, {\"rowspan\":3, \"colspan\":3}, None, None],\n",
    "                        [None, None, None, None, None, None, None], \n",
    "                        [None, None, None, None, None, None, None],\n",
    "                        [{\"rowspan\":3, \"colspan\":3}, None, None, None, {\"rowspan\":3, \"colspan\":3}, None, None], \\\n",
    "                        [None, None, None, None, None, None, None], \\\n",
    "                        [None, None, None, None, None, None, None], \\\n",
    "                        [{\"rowspan\":3, \"colspan\":3}, None, None, None, {\"rowspan\":3, \"colspan\":3}, None, None], \\\n",
    "                        [None, None, None, None, None, None, None], \\\n",
    "                        [None, None, None, None, None, None, None], \\\n",
    "                        [{\"rowspan\":3, \"colspan\":3}, None, None, None, {\"rowspan\":3, \"colspan\":3}, None, None], \\\n",
    "                        [None, None, None, None, None, None, None], \\\n",
    "                        [None, None, None, None, None, None, None]])\n",
    "\n",
    "fig.add_trace(go.Line(x=champions['season'], y=champions['reg_off_rtg_rank'], hovertemplate =\n",
    "    '<b>Offensive Rating Rank</b>: %{y}'+\n",
    "    '<br><b>Season</b>: %{x}<br>'+\n",
    "    '<b>Team</b>: %{text}', name='', text=champions['team_name']), row=1, col=1)\n",
    "fig.add_trace(go.Line(x=champions_misc['season'], y=champions_misc['reg_pts_off_to_rank'], hovertemplate =\n",
    "    '<b>Pts. Off TOs Rank</b>: %{y}'+\n",
    "    '<br><b>Season</b>: %{x}<br>'+\n",
    "    '<b>Team</b>: %{text}', name='', text=champions_misc['team_name']), row=1, col=5)\n",
    "fig.add_trace(go.Line(x=champions['season'], y=champions['reg_def_rtg_rank'], hovertemplate =\n",
    "    '<b>Defensive Rating</b>: %{y}'+\n",
    "    '<br><b>Season</b>: %{x}<br>'+\n",
    "    '<b>Team</b>: %{text}', name='', text=champions['team_name']), row=4, col=1)\n",
    "fig.add_trace(go.Line(x=champions_misc['season'], y=champions_misc['reg_second_chance_pts_rank'], hovertemplate =\n",
    "    '<b>2nd Chance Pts. Rank</b>: %{y}'+\n",
    "    '<br><b>Season</b>: %{x}<br>'+\n",
    "    '<b>Team</b>: %{text}', name='', text=champions_misc['team_name']), row=4, col=5)\n",
    "fig.add_trace(go.Line(x=champions['season'], y=champions['reg_net_rtg_rank'], hovertemplate =\n",
    "    '<b>Net Rating</b>: %{y}'+\n",
    "    '<br><b>Season</b>: %{x}<br>'+\n",
    "    '<b>Team</b>: %{text}', name='', text=champions['team_name']), row=7, col=1)\n",
    "fig.add_trace(go.Line(x=champions_misc['season'], y=champions_misc['reg_fastbreak_pts_rank'], hovertemplate =\n",
    "    '<b>Fast Break Pts. Rank</b>: %{y}'+\n",
    "    '<br><b>Season</b>: %{x}<br>'+\n",
    "    '<b>Team</b>: %{text}', name='', text=champions_misc['team_name']), row=7, col=5)\n",
    "fig.add_trace(go.Line(x=champions['season'], y=champions['reg_fg_ast%_rank'], hovertemplate =\n",
    "    '<b>FG Assist % Rank</b>: %{y}'+\n",
    "    '<br><b>Season</b>: %{x}<br>'+\n",
    "    '<b>Team</b>: %{text}', name='', text=champions['team_name']), row=10, col=1)\n",
    "fig.add_trace(go.Line(x=champions_misc['season'], y=champions_misc['reg_pts_in_paint_rank'], hovertemplate =\n",
    "    '<b>Pts. in Paint Rank</b>: %{y}'+\n",
    "    '<br><b>Season</b>: %{x}<br>'+\n",
    "    '<b>Team</b>: %{text}', name='', text=champions_misc['team_name']), row=10, col=5)\n",
    "fig.add_trace(go.Line(x=champions['season'], y=champions['reg_ast_to_ratio_rank'], hovertemplate =\n",
    "    '<b>Assist/Turnover Ratio</b>: %{y}'+\n",
    "    '<br><b>Season</b>: %{x}<br>', name=''), row=13, col=1)\n",
    "fig.add_trace(go.Line(x=champions_misc['season'], y=champions_misc['reg_opp_pts_off_to_rank'], hovertemplate =\n",
    "    '<b>Opp. Pts. Off TOs Rank</b>: %{y}'+\n",
    "    '<br><b>Season</b>: %{x}<br>'+\n",
    "    '<b>Team</b>: %{text}', name='', text=champions_misc['team_name']), row=13, col=5)\n",
    "fig.add_trace(go.Line(x=champions['season'], y=champions['reg_eff_fg%_rank'], hovertemplate =\n",
    "    '<b>Effective FG %</b>: %{y}'+\n",
    "    '<br><b>Season</b>: %{x}<br>', name=''), row=16, col=1)\n",
    "fig.add_trace(go.Line(x=champions_misc['season'], y=champions_misc['reg_opp_second_chance_pts_rank'], hovertemplate =\n",
    "    '<b>Opp. 2nd Chance Pts. Rank</b>: %{y}'+\n",
    "    '<br><b>Season</b>: %{x}<br>'+\n",
    "    '<b>Team</b>: %{text}', name='', text=champions_misc['team_name']), row=16, col=5)\n",
    "fig.add_trace(go.Line(x=champions['season'], y=champions['reg_ts%_rank'], hovertemplate =\n",
    "    '<b>True Shooting %</b>: %{y}'+\n",
    "    '<br><b>Season</b>: %{x}<br>', name=''), row=19, col=1)\n",
    "fig.add_trace(go.Line(x=champions_misc['season'], y=champions_misc['reg_opp_fastbreak_pts_rank'], hovertemplate =\n",
    "    '<b>Opp. Fast Break Pts. Rank</b>: %{y}'+\n",
    "    '<br><b>Season</b>: %{x}<br>'+\n",
    "    '<b>Team</b>: %{text}', name='', text=champions_misc['team_name']), row=19, col=5)\n",
    "\n",
    "fig.update_xaxes(showticklabels=False, showgrid=False)\n",
    "fig.update_yaxes(showgrid=False, range=[1, 30], row=1, col=1)\n",
    "fig.update_yaxes(range=[1, 30], scaleanchor=\"y\", overlaying=\"y\", row=1, col=1)\n",
    "fig.update_yaxes(showgrid=False, range=[1, 30], row=1, col=5)\n",
    "fig.update_yaxes(range=[1, 30], scaleanchor=\"y\", overlaying=\"y\", row=1, col=5)\n",
    "fig.update_yaxes(showgrid=False, range=[1, 30], row=4, col=1)\n",
    "fig.update_yaxes(range=[1, 30], scaleanchor=\"y\", overlaying=\"y\", row=4, col=1)\n",
    "fig.update_yaxes(showgrid=False, range=[1, 30], row=4, col=5)\n",
    "fig.update_yaxes(range=[1, 30], scaleanchor=\"y\", overlaying=\"y\", row=4, col=5)\n",
    "fig.update_yaxes(showgrid=False, range=[1, 30], row=7, col=1)\n",
    "fig.update_yaxes(range=[1, 30], scaleanchor=\"y\", overlaying=\"y\", row=7, col=1)\n",
    "fig.update_yaxes(showgrid=False, range=[1, 30], row=7, col=5)\n",
    "fig.update_yaxes(range=[1, 30], scaleanchor=\"y\", overlaying=\"y\", row=7, col=5)\n",
    "fig.update_yaxes(showgrid=False, range=[1, 30], row=10, col=1)\n",
    "fig.update_yaxes(range=[1, 30], scaleanchor=\"y\", overlaying=\"y\", row=10, col=1)\n",
    "fig.update_yaxes(showgrid=False, range=[1, 30], row=10, col=5)\n",
    "fig.update_yaxes(range=[1, 30], scaleanchor=\"y\", overlaying=\"y\", row=10, col=5)\n",
    "fig.update_yaxes(showgrid=False, range=[1, 30], row=13, col=1)\n",
    "fig.update_yaxes(range=[1, 30], scaleanchor=\"y\", overlaying=\"y\", row=13, col=1)\n",
    "fig.update_yaxes(showgrid=False, range=[1, 30], row=13, col=5)\n",
    "fig.update_yaxes(range=[1, 30], scaleanchor=\"y\", overlaying=\"y\", row=13, col=5)\n",
    "fig.update_yaxes(showgrid=False, range=[1, 30], row=16, col=1)\n",
    "fig.update_yaxes(range=[1, 30], scaleanchor=\"y\", overlaying=\"y\", row=16, col=1)\n",
    "fig.update_yaxes(showgrid=False, range=[1, 30], row=16, col=5)\n",
    "fig.update_yaxes(range=[1, 30], scaleanchor=\"y\", overlaying=\"y\", row=16, col=5)\n",
    "fig.update_yaxes(showgrid=False, range=[1, 30], row=19, col=1)\n",
    "fig.update_yaxes(range=[1, 30], scaleanchor=\"y\", overlaying=\"y\", row=19, col=1)\n",
    "fig.update_yaxes(showgrid=False, range=[1, 30], row=19, col=5)\n",
    "fig.update_yaxes(range=[1, 30], scaleanchor=\"y\", overlaying=\"y\", row=19, col=5)\n",
    "fig.update_layout(height=1200, width=700, title_text=\"NBA Champions Regular Season Stats (2004-2023)\", showlegend=False)\n",
    "\n",
    "fig.show()"
   ]
  }
 ],
 "metadata": {
  "kernelspec": {
   "display_name": "Python 3",
   "language": "python",
   "name": "python3"
  },
  "language_info": {
   "codemirror_mode": {
    "name": "ipython",
    "version": 3
   },
   "file_extension": ".py",
   "mimetype": "text/x-python",
   "name": "python",
   "nbconvert_exporter": "python",
   "pygments_lexer": "ipython3",
   "version": "3.9.12"
  }
 },
 "nbformat": 4,
 "nbformat_minor": 2
}
