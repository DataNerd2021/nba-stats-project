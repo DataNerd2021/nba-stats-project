{
 "cells": [
  {
   "cell_type": "markdown",
   "metadata": {},
   "source": [
    "# **MongoDB to Staging Area**"
   ]
  },
  {
   "cell_type": "markdown",
   "metadata": {},
   "source": [
    "#### Import Required Libraries"
   ]
  },
  {
   "cell_type": "code",
   "execution_count": 135,
   "metadata": {},
   "outputs": [],
   "source": [
    "from pymongo import MongoClient\n",
    "from bson.json_util import dumps\n",
    "from bson.json_util import loads\n",
    "import pandas as pd\n",
    "from tqdm.notebook import tqdm\n",
    "from sqlalchemy import create_engine"
   ]
  },
  {
   "cell_type": "markdown",
   "metadata": {},
   "source": [
    "#### Establish MongoDB Connection"
   ]
  },
  {
   "cell_type": "code",
   "execution_count": 113,
   "metadata": {},
   "outputs": [],
   "source": [
    "client = MongoClient('localhost', 27017)\n",
    "\n",
    "db = client['NBA-Stats']\n",
    "\n",
    "player_cltn = db['players']\n",
    "games_cltn = db['Games']\n",
    "player_game_stats = db['player_game_stats']"
   ]
  },
  {
   "cell_type": "markdown",
   "metadata": {},
   "source": [
    "#### Establish PostgreSQL Connection"
   ]
  },
  {
   "cell_type": "code",
   "execution_count": 137,
   "metadata": {},
   "outputs": [
    {
     "data": {
      "text/html": [
       "<div>\n",
       "<style scoped>\n",
       "    .dataframe tbody tr th:only-of-type {\n",
       "        vertical-align: middle;\n",
       "    }\n",
       "\n",
       "    .dataframe tbody tr th {\n",
       "        vertical-align: top;\n",
       "    }\n",
       "\n",
       "    .dataframe thead th {\n",
       "        text-align: right;\n",
       "    }\n",
       "</style>\n",
       "<table border=\"1\" class=\"dataframe\">\n",
       "  <thead>\n",
       "    <tr style=\"text-align: right;\">\n",
       "      <th></th>\n",
       "      <th>PLAYER_ID</th>\n",
       "      <th>SEASON_ID</th>\n",
       "      <th>LEAGUE_ID</th>\n",
       "      <th>TEAM_ID</th>\n",
       "      <th>TEAM_ABBREVIATION</th>\n",
       "      <th>PLAYER_AGE</th>\n",
       "      <th>GP</th>\n",
       "      <th>GS</th>\n",
       "      <th>MIN</th>\n",
       "      <th>FGM</th>\n",
       "      <th>...</th>\n",
       "      <th>DREB</th>\n",
       "      <th>REB</th>\n",
       "      <th>AST</th>\n",
       "      <th>STL</th>\n",
       "      <th>BLK</th>\n",
       "      <th>TOV</th>\n",
       "      <th>PF</th>\n",
       "      <th>PTS</th>\n",
       "      <th>player_name</th>\n",
       "      <th>Category</th>\n",
       "    </tr>\n",
       "  </thead>\n",
       "  <tbody>\n",
       "  </tbody>\n",
       "</table>\n",
       "<p>0 rows × 29 columns</p>\n",
       "</div>"
      ],
      "text/plain": [
       "Empty DataFrame\n",
       "Columns: [PLAYER_ID, SEASON_ID, LEAGUE_ID, TEAM_ID, TEAM_ABBREVIATION, PLAYER_AGE, GP, GS, MIN, FGM, FGA, FG_PCT, FG3M, FG3A, FG3_PCT, FTM, FTA, FT_PCT, OREB, DREB, REB, AST, STL, BLK, TOV, PF, PTS, player_name, Category]\n",
       "Index: []\n",
       "\n",
       "[0 rows x 29 columns]"
      ]
     },
     "execution_count": 137,
     "metadata": {},
     "output_type": "execute_result"
    }
   ],
   "source": [
    "conn = create_engine('postgresql+psycopg2://postgres:postgres\\\n",
    "@localhost/nba_stats')\n",
    "\n",
    "# test connection\n",
    "pd.read_sql('SELECT * FROM staging.stg_player_season_stats ORDER BY \"PLAYER_ID\" LIMIT 5', con=conn)"
   ]
  },
  {
   "cell_type": "markdown",
   "metadata": {},
   "source": [
    "#### Define Function to Retrieve MongoDB Query Results"
   ]
  },
  {
   "cell_type": "code",
   "execution_count": 115,
   "metadata": {},
   "outputs": [],
   "source": [
    "def get_results(query):\n",
    "    return loads(dumps(query))"
   ]
  },
  {
   "cell_type": "markdown",
   "metadata": {},
   "source": [
    "#### Test Query Functionality"
   ]
  },
  {
   "cell_type": "code",
   "execution_count": 116,
   "metadata": {},
   "outputs": [
    {
     "data": {
      "text/plain": [
       "[76001,\n",
       " '1990-91',\n",
       " '00',\n",
       " 1610612757,\n",
       " 'POR',\n",
       " 23.0,\n",
       " 43,\n",
       " 0,\n",
       " 290.0,\n",
       " 55,\n",
       " 116,\n",
       " 0.474,\n",
       " 0,\n",
       " 0,\n",
       " 0.0,\n",
       " 25,\n",
       " 44,\n",
       " 0.568,\n",
       " 27,\n",
       " 62,\n",
       " 89,\n",
       " 12,\n",
       " 4,\n",
       " 12,\n",
       " 22,\n",
       " 39,\n",
       " 135]"
      ]
     },
     "execution_count": 116,
     "metadata": {},
     "output_type": "execute_result"
    }
   ],
   "source": [
    "# Get All Relevant Data from \"Player_Stats\" Collection\n",
    "query = get_results(player_cltn.find({}, {\"resultSets\": {\"$slice\": [0, 1]}}))\n",
    "\n",
    "# Define Dictionary Keys as List\n",
    "headers = query[0]['resultSets'][0]['headers']\n",
    "\n",
    "# Define Dictionary Values as List\n",
    "results = query[0]['resultSets'][0]['rowSet'][0]\n",
    "\n",
    "results"
   ]
  },
  {
   "cell_type": "markdown",
   "metadata": {},
   "source": [
    "#### Initialize Dictionary with First Row"
   ]
  },
  {
   "cell_type": "code",
   "execution_count": 117,
   "metadata": {},
   "outputs": [
    {
     "data": {
      "text/plain": [
       "{'PLAYER_ID': 76001,\n",
       " 'SEASON_ID': '1990-91',\n",
       " 'LEAGUE_ID': '00',\n",
       " 'TEAM_ID': 1610612757,\n",
       " 'TEAM_ABBREVIATION': 'POR',\n",
       " 'PLAYER_AGE': 23.0,\n",
       " 'GP': 43,\n",
       " 'GS': 0,\n",
       " 'MIN': 290.0,\n",
       " 'FGM': 55,\n",
       " 'FGA': 116,\n",
       " 'FG_PCT': 0.474,\n",
       " 'FG3M': 0,\n",
       " 'FG3A': 0,\n",
       " 'FG3_PCT': 0.0,\n",
       " 'FTM': 25,\n",
       " 'FTA': 44,\n",
       " 'FT_PCT': 0.568,\n",
       " 'OREB': 27,\n",
       " 'DREB': 62,\n",
       " 'REB': 89,\n",
       " 'AST': 12,\n",
       " 'STL': 4,\n",
       " 'BLK': 12,\n",
       " 'TOV': 22,\n",
       " 'PF': 39,\n",
       " 'PTS': 135}"
      ]
     },
     "execution_count": 117,
     "metadata": {},
     "output_type": "execute_result"
    }
   ],
   "source": [
    "res = {}\n",
    "for key in headers:\n",
    "            # res[key] = results[vali]\n",
    "            for value in results:\n",
    "                res[key] = value\n",
    "                results.remove(value)\n",
    "                break\n",
    "res"
   ]
  },
  {
   "cell_type": "markdown",
   "metadata": {},
   "source": [
    "#### Construct Script to Load All Data From \"Player_Stats\" Collection to Pandas DataFrame"
   ]
  },
  {
   "cell_type": "code",
   "execution_count": 119,
   "metadata": {},
   "outputs": [
    {
     "data": {
      "application/json": {
       "ascii": false,
       "bar_format": null,
       "colour": null,
       "elapsed": 0.050744056701660156,
       "initial": 0,
       "n": 0,
       "ncols": null,
       "nrows": null,
       "postfix": null,
       "prefix": "",
       "rate": null,
       "total": 4902,
       "unit": "it",
       "unit_divisor": 1000,
       "unit_scale": false
      },
      "application/vnd.jupyter.widget-view+json": {
       "model_id": "aacadde067164828bb75b2c1c6625202",
       "version_major": 2,
       "version_minor": 0
      },
      "text/plain": [
       "  0%|          | 0/4902 [00:00<?, ?it/s]"
      ]
     },
     "metadata": {},
     "output_type": "display_data"
    },
    {
     "data": {
      "text/html": [
       "<div>\n",
       "<style scoped>\n",
       "    .dataframe tbody tr th:only-of-type {\n",
       "        vertical-align: middle;\n",
       "    }\n",
       "\n",
       "    .dataframe tbody tr th {\n",
       "        vertical-align: top;\n",
       "    }\n",
       "\n",
       "    .dataframe thead th {\n",
       "        text-align: right;\n",
       "    }\n",
       "</style>\n",
       "<table border=\"1\" class=\"dataframe\">\n",
       "  <thead>\n",
       "    <tr style=\"text-align: right;\">\n",
       "      <th></th>\n",
       "      <th>PLAYER_ID</th>\n",
       "      <th>SEASON_ID</th>\n",
       "      <th>LEAGUE_ID</th>\n",
       "      <th>TEAM_ID</th>\n",
       "      <th>TEAM_ABBREVIATION</th>\n",
       "      <th>PLAYER_AGE</th>\n",
       "      <th>GP</th>\n",
       "      <th>GS</th>\n",
       "      <th>MIN</th>\n",
       "      <th>FGM</th>\n",
       "      <th>...</th>\n",
       "      <th>OREB</th>\n",
       "      <th>DREB</th>\n",
       "      <th>REB</th>\n",
       "      <th>AST</th>\n",
       "      <th>STL</th>\n",
       "      <th>BLK</th>\n",
       "      <th>TOV</th>\n",
       "      <th>PF</th>\n",
       "      <th>PTS</th>\n",
       "      <th>player_name</th>\n",
       "    </tr>\n",
       "  </thead>\n",
       "  <tbody>\n",
       "    <tr>\n",
       "      <th>0</th>\n",
       "      <td>76001</td>\n",
       "      <td>1990-91</td>\n",
       "      <td>00</td>\n",
       "      <td>1610612757</td>\n",
       "      <td>POR</td>\n",
       "      <td>23.0</td>\n",
       "      <td>43</td>\n",
       "      <td>0</td>\n",
       "      <td>290.0</td>\n",
       "      <td>55</td>\n",
       "      <td>...</td>\n",
       "      <td>27</td>\n",
       "      <td>62</td>\n",
       "      <td>89</td>\n",
       "      <td>12</td>\n",
       "      <td>4</td>\n",
       "      <td>12</td>\n",
       "      <td>22</td>\n",
       "      <td>39</td>\n",
       "      <td>135</td>\n",
       "      <td>NaN</td>\n",
       "    </tr>\n",
       "    <tr>\n",
       "      <th>0</th>\n",
       "      <td>76001</td>\n",
       "      <td>1990-91</td>\n",
       "      <td>00</td>\n",
       "      <td>1610612757</td>\n",
       "      <td>POR</td>\n",
       "      <td>23.0</td>\n",
       "      <td>43</td>\n",
       "      <td>0</td>\n",
       "      <td>290.0</td>\n",
       "      <td>55</td>\n",
       "      <td>...</td>\n",
       "      <td>27</td>\n",
       "      <td>62</td>\n",
       "      <td>89</td>\n",
       "      <td>12</td>\n",
       "      <td>4</td>\n",
       "      <td>12</td>\n",
       "      <td>22</td>\n",
       "      <td>39</td>\n",
       "      <td>135</td>\n",
       "      <td>Alaa Abdelnaby</td>\n",
       "    </tr>\n",
       "    <tr>\n",
       "      <th>0</th>\n",
       "      <td>76001</td>\n",
       "      <td>1991-92</td>\n",
       "      <td>00</td>\n",
       "      <td>1610612757</td>\n",
       "      <td>POR</td>\n",
       "      <td>24.0</td>\n",
       "      <td>71</td>\n",
       "      <td>1</td>\n",
       "      <td>934.0</td>\n",
       "      <td>178</td>\n",
       "      <td>...</td>\n",
       "      <td>81</td>\n",
       "      <td>179</td>\n",
       "      <td>260</td>\n",
       "      <td>30</td>\n",
       "      <td>25</td>\n",
       "      <td>16</td>\n",
       "      <td>66</td>\n",
       "      <td>132</td>\n",
       "      <td>432</td>\n",
       "      <td>Alaa Abdelnaby</td>\n",
       "    </tr>\n",
       "    <tr>\n",
       "      <th>0</th>\n",
       "      <td>76001</td>\n",
       "      <td>1992-93</td>\n",
       "      <td>00</td>\n",
       "      <td>1610612749</td>\n",
       "      <td>MIL</td>\n",
       "      <td>25.0</td>\n",
       "      <td>12</td>\n",
       "      <td>0</td>\n",
       "      <td>159.0</td>\n",
       "      <td>26</td>\n",
       "      <td>...</td>\n",
       "      <td>12</td>\n",
       "      <td>25</td>\n",
       "      <td>37</td>\n",
       "      <td>10</td>\n",
       "      <td>6</td>\n",
       "      <td>4</td>\n",
       "      <td>13</td>\n",
       "      <td>24</td>\n",
       "      <td>64</td>\n",
       "      <td>Alaa Abdelnaby</td>\n",
       "    </tr>\n",
       "    <tr>\n",
       "      <th>0</th>\n",
       "      <td>76001</td>\n",
       "      <td>1992-93</td>\n",
       "      <td>00</td>\n",
       "      <td>1610612738</td>\n",
       "      <td>BOS</td>\n",
       "      <td>25.0</td>\n",
       "      <td>63</td>\n",
       "      <td>52</td>\n",
       "      <td>1152.0</td>\n",
       "      <td>219</td>\n",
       "      <td>...</td>\n",
       "      <td>114</td>\n",
       "      <td>186</td>\n",
       "      <td>300</td>\n",
       "      <td>17</td>\n",
       "      <td>19</td>\n",
       "      <td>22</td>\n",
       "      <td>84</td>\n",
       "      <td>165</td>\n",
       "      <td>514</td>\n",
       "      <td>Alaa Abdelnaby</td>\n",
       "    </tr>\n",
       "    <tr>\n",
       "      <th>...</th>\n",
       "      <td>...</td>\n",
       "      <td>...</td>\n",
       "      <td>...</td>\n",
       "      <td>...</td>\n",
       "      <td>...</td>\n",
       "      <td>...</td>\n",
       "      <td>...</td>\n",
       "      <td>...</td>\n",
       "      <td>...</td>\n",
       "      <td>...</td>\n",
       "      <td>...</td>\n",
       "      <td>...</td>\n",
       "      <td>...</td>\n",
       "      <td>...</td>\n",
       "      <td>...</td>\n",
       "      <td>...</td>\n",
       "      <td>...</td>\n",
       "      <td>...</td>\n",
       "      <td>...</td>\n",
       "      <td>...</td>\n",
       "      <td>...</td>\n",
       "    </tr>\n",
       "    <tr>\n",
       "      <th>0</th>\n",
       "      <td>1627826</td>\n",
       "      <td>2020-21</td>\n",
       "      <td>00</td>\n",
       "      <td>1610612746</td>\n",
       "      <td>LAC</td>\n",
       "      <td>24.0</td>\n",
       "      <td>72</td>\n",
       "      <td>33</td>\n",
       "      <td>1609.0</td>\n",
       "      <td>257</td>\n",
       "      <td>...</td>\n",
       "      <td>189</td>\n",
       "      <td>330</td>\n",
       "      <td>519</td>\n",
       "      <td>90</td>\n",
       "      <td>24</td>\n",
       "      <td>62</td>\n",
       "      <td>81</td>\n",
       "      <td>187</td>\n",
       "      <td>650</td>\n",
       "      <td>Ivica Zubac</td>\n",
       "    </tr>\n",
       "    <tr>\n",
       "      <th>0</th>\n",
       "      <td>1627826</td>\n",
       "      <td>2021-22</td>\n",
       "      <td>00</td>\n",
       "      <td>1610612746</td>\n",
       "      <td>LAC</td>\n",
       "      <td>25.0</td>\n",
       "      <td>76</td>\n",
       "      <td>76</td>\n",
       "      <td>1852.0</td>\n",
       "      <td>310</td>\n",
       "      <td>...</td>\n",
       "      <td>217</td>\n",
       "      <td>427</td>\n",
       "      <td>644</td>\n",
       "      <td>120</td>\n",
       "      <td>36</td>\n",
       "      <td>77</td>\n",
       "      <td>114</td>\n",
       "      <td>203</td>\n",
       "      <td>785</td>\n",
       "      <td>Ivica Zubac</td>\n",
       "    </tr>\n",
       "    <tr>\n",
       "      <th>0</th>\n",
       "      <td>1627826</td>\n",
       "      <td>2022-23</td>\n",
       "      <td>00</td>\n",
       "      <td>1610612746</td>\n",
       "      <td>LAC</td>\n",
       "      <td>26.0</td>\n",
       "      <td>76</td>\n",
       "      <td>76</td>\n",
       "      <td>2169.0</td>\n",
       "      <td>326</td>\n",
       "      <td>...</td>\n",
       "      <td>236</td>\n",
       "      <td>520</td>\n",
       "      <td>756</td>\n",
       "      <td>77</td>\n",
       "      <td>29</td>\n",
       "      <td>98</td>\n",
       "      <td>117</td>\n",
       "      <td>219</td>\n",
       "      <td>818</td>\n",
       "      <td>Ivica Zubac</td>\n",
       "    </tr>\n",
       "    <tr>\n",
       "      <th>0</th>\n",
       "      <td>1627826</td>\n",
       "      <td>2023-24</td>\n",
       "      <td>00</td>\n",
       "      <td>1610612746</td>\n",
       "      <td>LAC</td>\n",
       "      <td>26.0</td>\n",
       "      <td>36</td>\n",
       "      <td>36</td>\n",
       "      <td>976.0</td>\n",
       "      <td>193</td>\n",
       "      <td>...</td>\n",
       "      <td>115</td>\n",
       "      <td>233</td>\n",
       "      <td>348</td>\n",
       "      <td>45</td>\n",
       "      <td>8</td>\n",
       "      <td>49</td>\n",
       "      <td>41</td>\n",
       "      <td>105</td>\n",
       "      <td>452</td>\n",
       "      <td>Ivica Zubac</td>\n",
       "    </tr>\n",
       "    <tr>\n",
       "      <th>0</th>\n",
       "      <td>78650</td>\n",
       "      <td>1948-49</td>\n",
       "      <td>00</td>\n",
       "      <td>1610610036</td>\n",
       "      <td>WAS</td>\n",
       "      <td>29.0</td>\n",
       "      <td>56</td>\n",
       "      <td>None</td>\n",
       "      <td>None</td>\n",
       "      <td>98</td>\n",
       "      <td>...</td>\n",
       "      <td>None</td>\n",
       "      <td>None</td>\n",
       "      <td>None</td>\n",
       "      <td>50</td>\n",
       "      <td>None</td>\n",
       "      <td>None</td>\n",
       "      <td>None</td>\n",
       "      <td>182</td>\n",
       "      <td>273</td>\n",
       "      <td>Matt Zunic</td>\n",
       "    </tr>\n",
       "  </tbody>\n",
       "</table>\n",
       "<p>29727 rows × 28 columns</p>\n",
       "</div>"
      ],
      "text/plain": [
       "    PLAYER_ID SEASON_ID LEAGUE_ID     TEAM_ID TEAM_ABBREVIATION  PLAYER_AGE   \n",
       "0       76001   1990-91        00  1610612757               POR        23.0  \\\n",
       "0       76001   1990-91        00  1610612757               POR        23.0   \n",
       "0       76001   1991-92        00  1610612757               POR        24.0   \n",
       "0       76001   1992-93        00  1610612749               MIL        25.0   \n",
       "0       76001   1992-93        00  1610612738               BOS        25.0   \n",
       "..        ...       ...       ...         ...               ...         ...   \n",
       "0     1627826   2020-21        00  1610612746               LAC        24.0   \n",
       "0     1627826   2021-22        00  1610612746               LAC        25.0   \n",
       "0     1627826   2022-23        00  1610612746               LAC        26.0   \n",
       "0     1627826   2023-24        00  1610612746               LAC        26.0   \n",
       "0       78650   1948-49        00  1610610036               WAS        29.0   \n",
       "\n",
       "    GP    GS     MIN  FGM  ...  OREB  DREB   REB  AST   STL   BLK   TOV   PF   \n",
       "0   43     0   290.0   55  ...    27    62    89   12     4    12    22   39  \\\n",
       "0   43     0   290.0   55  ...    27    62    89   12     4    12    22   39   \n",
       "0   71     1   934.0  178  ...    81   179   260   30    25    16    66  132   \n",
       "0   12     0   159.0   26  ...    12    25    37   10     6     4    13   24   \n",
       "0   63    52  1152.0  219  ...   114   186   300   17    19    22    84  165   \n",
       "..  ..   ...     ...  ...  ...   ...   ...   ...  ...   ...   ...   ...  ...   \n",
       "0   72    33  1609.0  257  ...   189   330   519   90    24    62    81  187   \n",
       "0   76    76  1852.0  310  ...   217   427   644  120    36    77   114  203   \n",
       "0   76    76  2169.0  326  ...   236   520   756   77    29    98   117  219   \n",
       "0   36    36   976.0  193  ...   115   233   348   45     8    49    41  105   \n",
       "0   56  None    None   98  ...  None  None  None   50  None  None  None  182   \n",
       "\n",
       "    PTS     player_name  \n",
       "0   135             NaN  \n",
       "0   135  Alaa Abdelnaby  \n",
       "0   432  Alaa Abdelnaby  \n",
       "0    64  Alaa Abdelnaby  \n",
       "0   514  Alaa Abdelnaby  \n",
       "..  ...             ...  \n",
       "0   650     Ivica Zubac  \n",
       "0   785     Ivica Zubac  \n",
       "0   818     Ivica Zubac  \n",
       "0   452     Ivica Zubac  \n",
       "0   273      Matt Zunic  \n",
       "\n",
       "[29727 rows x 28 columns]"
      ]
     },
     "execution_count": 119,
     "metadata": {},
     "output_type": "execute_result"
    }
   ],
   "source": [
    "# define DataFrame with test data\n",
    "df = pd.DataFrame(res, index=[0])\n",
    "\n",
    "# redefine \"query\" variable\n",
    "query = get_results(player_cltn.find({}, {\"resultSets\": {\"$slice\": [0, 1]}}))\n",
    "\n",
    "# redefine \"headers\" variable\n",
    "headers = query[0]['resultSets'][0]['headers']\n",
    "headers.append('player_name')\n",
    "\n",
    "# Use tqdm to view upload progress\n",
    "for player in tqdm(query, ):\n",
    "    for results in player['resultSets'][0]['rowSet']:\n",
    "        results.append(player['player name'])\n",
    "        res = {}\n",
    "        for key in headers:\n",
    "            for value in results:\n",
    "                res[key] = value\n",
    "                results.remove(value)\n",
    "                break\n",
    "        df = pd.concat([df, pd.DataFrame(res, index=[0])])\n",
    "        \n",
    "temp_player_stats = df\n",
    "temp_player_stats"
   ]
  },
  {
   "cell_type": "markdown",
   "metadata": {},
   "source": [
    "#### Add Descriptive Column to Pandas DataFrame"
   ]
  },
  {
   "cell_type": "code",
   "execution_count": 120,
   "metadata": {},
   "outputs": [
    {
     "data": {
      "text/html": [
       "<div>\n",
       "<style scoped>\n",
       "    .dataframe tbody tr th:only-of-type {\n",
       "        vertical-align: middle;\n",
       "    }\n",
       "\n",
       "    .dataframe tbody tr th {\n",
       "        vertical-align: top;\n",
       "    }\n",
       "\n",
       "    .dataframe thead th {\n",
       "        text-align: right;\n",
       "    }\n",
       "</style>\n",
       "<table border=\"1\" class=\"dataframe\">\n",
       "  <thead>\n",
       "    <tr style=\"text-align: right;\">\n",
       "      <th></th>\n",
       "      <th>PLAYER_ID</th>\n",
       "      <th>SEASON_ID</th>\n",
       "      <th>LEAGUE_ID</th>\n",
       "      <th>TEAM_ID</th>\n",
       "      <th>TEAM_ABBREVIATION</th>\n",
       "      <th>PLAYER_AGE</th>\n",
       "      <th>GP</th>\n",
       "      <th>GS</th>\n",
       "      <th>MIN</th>\n",
       "      <th>FGM</th>\n",
       "      <th>...</th>\n",
       "      <th>DREB</th>\n",
       "      <th>REB</th>\n",
       "      <th>AST</th>\n",
       "      <th>STL</th>\n",
       "      <th>BLK</th>\n",
       "      <th>TOV</th>\n",
       "      <th>PF</th>\n",
       "      <th>PTS</th>\n",
       "      <th>player_name</th>\n",
       "      <th>Category</th>\n",
       "    </tr>\n",
       "  </thead>\n",
       "  <tbody>\n",
       "    <tr>\n",
       "      <th>0</th>\n",
       "      <td>76001</td>\n",
       "      <td>1990-91</td>\n",
       "      <td>00</td>\n",
       "      <td>1610612757</td>\n",
       "      <td>POR</td>\n",
       "      <td>23.0</td>\n",
       "      <td>43</td>\n",
       "      <td>0</td>\n",
       "      <td>290.0</td>\n",
       "      <td>55</td>\n",
       "      <td>...</td>\n",
       "      <td>62</td>\n",
       "      <td>89</td>\n",
       "      <td>12</td>\n",
       "      <td>4</td>\n",
       "      <td>12</td>\n",
       "      <td>22</td>\n",
       "      <td>39</td>\n",
       "      <td>135</td>\n",
       "      <td>NaN</td>\n",
       "      <td>Regular Season Totals - By Season</td>\n",
       "    </tr>\n",
       "    <tr>\n",
       "      <th>0</th>\n",
       "      <td>76001</td>\n",
       "      <td>1990-91</td>\n",
       "      <td>00</td>\n",
       "      <td>1610612757</td>\n",
       "      <td>POR</td>\n",
       "      <td>23.0</td>\n",
       "      <td>43</td>\n",
       "      <td>0</td>\n",
       "      <td>290.0</td>\n",
       "      <td>55</td>\n",
       "      <td>...</td>\n",
       "      <td>62</td>\n",
       "      <td>89</td>\n",
       "      <td>12</td>\n",
       "      <td>4</td>\n",
       "      <td>12</td>\n",
       "      <td>22</td>\n",
       "      <td>39</td>\n",
       "      <td>135</td>\n",
       "      <td>Alaa Abdelnaby</td>\n",
       "      <td>Regular Season Totals - By Season</td>\n",
       "    </tr>\n",
       "    <tr>\n",
       "      <th>0</th>\n",
       "      <td>76001</td>\n",
       "      <td>1991-92</td>\n",
       "      <td>00</td>\n",
       "      <td>1610612757</td>\n",
       "      <td>POR</td>\n",
       "      <td>24.0</td>\n",
       "      <td>71</td>\n",
       "      <td>1</td>\n",
       "      <td>934.0</td>\n",
       "      <td>178</td>\n",
       "      <td>...</td>\n",
       "      <td>179</td>\n",
       "      <td>260</td>\n",
       "      <td>30</td>\n",
       "      <td>25</td>\n",
       "      <td>16</td>\n",
       "      <td>66</td>\n",
       "      <td>132</td>\n",
       "      <td>432</td>\n",
       "      <td>Alaa Abdelnaby</td>\n",
       "      <td>Regular Season Totals - By Season</td>\n",
       "    </tr>\n",
       "    <tr>\n",
       "      <th>0</th>\n",
       "      <td>76001</td>\n",
       "      <td>1992-93</td>\n",
       "      <td>00</td>\n",
       "      <td>1610612749</td>\n",
       "      <td>MIL</td>\n",
       "      <td>25.0</td>\n",
       "      <td>12</td>\n",
       "      <td>0</td>\n",
       "      <td>159.0</td>\n",
       "      <td>26</td>\n",
       "      <td>...</td>\n",
       "      <td>25</td>\n",
       "      <td>37</td>\n",
       "      <td>10</td>\n",
       "      <td>6</td>\n",
       "      <td>4</td>\n",
       "      <td>13</td>\n",
       "      <td>24</td>\n",
       "      <td>64</td>\n",
       "      <td>Alaa Abdelnaby</td>\n",
       "      <td>Regular Season Totals - By Season</td>\n",
       "    </tr>\n",
       "    <tr>\n",
       "      <th>0</th>\n",
       "      <td>76001</td>\n",
       "      <td>1992-93</td>\n",
       "      <td>00</td>\n",
       "      <td>1610612738</td>\n",
       "      <td>BOS</td>\n",
       "      <td>25.0</td>\n",
       "      <td>63</td>\n",
       "      <td>52</td>\n",
       "      <td>1152.0</td>\n",
       "      <td>219</td>\n",
       "      <td>...</td>\n",
       "      <td>186</td>\n",
       "      <td>300</td>\n",
       "      <td>17</td>\n",
       "      <td>19</td>\n",
       "      <td>22</td>\n",
       "      <td>84</td>\n",
       "      <td>165</td>\n",
       "      <td>514</td>\n",
       "      <td>Alaa Abdelnaby</td>\n",
       "      <td>Regular Season Totals - By Season</td>\n",
       "    </tr>\n",
       "  </tbody>\n",
       "</table>\n",
       "<p>5 rows × 29 columns</p>\n",
       "</div>"
      ],
      "text/plain": [
       "   PLAYER_ID SEASON_ID LEAGUE_ID     TEAM_ID TEAM_ABBREVIATION  PLAYER_AGE   \n",
       "0      76001   1990-91        00  1610612757               POR        23.0  \\\n",
       "0      76001   1990-91        00  1610612757               POR        23.0   \n",
       "0      76001   1991-92        00  1610612757               POR        24.0   \n",
       "0      76001   1992-93        00  1610612749               MIL        25.0   \n",
       "0      76001   1992-93        00  1610612738               BOS        25.0   \n",
       "\n",
       "   GP  GS     MIN  FGM  ...  DREB  REB AST STL BLK  TOV   PF  PTS   \n",
       "0  43   0   290.0   55  ...    62   89  12   4  12   22   39  135  \\\n",
       "0  43   0   290.0   55  ...    62   89  12   4  12   22   39  135   \n",
       "0  71   1   934.0  178  ...   179  260  30  25  16   66  132  432   \n",
       "0  12   0   159.0   26  ...    25   37  10   6   4   13   24   64   \n",
       "0  63  52  1152.0  219  ...   186  300  17  19  22   84  165  514   \n",
       "\n",
       "      player_name                           Category  \n",
       "0             NaN  Regular Season Totals - By Season  \n",
       "0  Alaa Abdelnaby  Regular Season Totals - By Season  \n",
       "0  Alaa Abdelnaby  Regular Season Totals - By Season  \n",
       "0  Alaa Abdelnaby  Regular Season Totals - By Season  \n",
       "0  Alaa Abdelnaby  Regular Season Totals - By Season  \n",
       "\n",
       "[5 rows x 29 columns]"
      ]
     },
     "execution_count": 120,
     "metadata": {},
     "output_type": "execute_result"
    }
   ],
   "source": [
    "temp_player_stats['Category'] = 'Regular Season Totals - By Season'\n",
    "temp_player_stats.head()"
   ]
  },
  {
   "cell_type": "markdown",
   "metadata": {},
   "source": [
    "#### Perform the following Data Cleaning Tasks:\n",
    "##### - Remove NULL Values (as appropriate)\n",
    "##### - Change Data Types (as appropriate)\n",
    "###### *I identified these steps when I was uploading the eventual CSV to the Staging Table in PostgreSQL"
   ]
  },
  {
   "cell_type": "code",
   "execution_count": 121,
   "metadata": {},
   "outputs": [
    {
     "name": "stdout",
     "output_type": "stream",
     "text": [
      "<class 'pandas.core.frame.DataFrame'>\n",
      "Index: 29727 entries, 0 to 0\n",
      "Data columns (total 29 columns):\n",
      " #   Column             Non-Null Count  Dtype  \n",
      "---  ------             --------------  -----  \n",
      " 0   PLAYER_ID          29727 non-null  int64  \n",
      " 1   SEASON_ID          29727 non-null  object \n",
      " 2   LEAGUE_ID          29727 non-null  object \n",
      " 3   TEAM_ID            29727 non-null  int64  \n",
      " 4   TEAM_ABBREVIATION  29719 non-null  object \n",
      " 5   PLAYER_AGE         29727 non-null  float64\n",
      " 6   GP                 29727 non-null  int64  \n",
      " 7   GS                 29727 non-null  int32  \n",
      " 8   MIN                28958 non-null  float64\n",
      " 9   FGM                29727 non-null  int32  \n",
      " 10  FGA                29727 non-null  int32  \n",
      " 11  FG_PCT             29713 non-null  float64\n",
      " 12  FG3M               29727 non-null  int32  \n",
      " 13  FG3A               29727 non-null  int32  \n",
      " 14  FG3_PCT            23472 non-null  float64\n",
      " 15  FTM                29727 non-null  int64  \n",
      " 16  FTA                29727 non-null  int64  \n",
      " 17  FT_PCT             29608 non-null  float64\n",
      " 18  OREB               29727 non-null  int32  \n",
      " 19  DREB               29727 non-null  int32  \n",
      " 20  REB                29727 non-null  int32  \n",
      " 21  AST                29727 non-null  int64  \n",
      " 22  STL                29727 non-null  int32  \n",
      " 23  BLK                29727 non-null  int32  \n",
      " 24  TOV                29727 non-null  int32  \n",
      " 25  PF                 29727 non-null  int64  \n",
      " 26  PTS                29727 non-null  int64  \n",
      " 27  player_name        29726 non-null  object \n",
      " 28  Category           29727 non-null  object \n",
      "dtypes: float64(5), int32(11), int64(8), object(5)\n",
      "memory usage: 5.6+ MB\n"
     ]
    }
   ],
   "source": [
    "int_columns = ['GS', 'FGM', 'FGA', 'FG3M', 'FG3A', 'OREB', 'DREB', 'REB', 'STL', 'BLK', 'TOV']\n",
    "float_columns = ['MIN', 'FG_PCT', 'FG3_PCT', 'FT_PCT']\n",
    "\n",
    "for column in int_columns:\n",
    "    temp_player_stats[column].fillna(value=-1, inplace=True)\n",
    "    temp_player_stats[column] = temp_player_stats[column].astype(int)\n",
    "    \n",
    "for column in float_columns:\n",
    "    temp_player_stats[column].dropna(inplace=True)\n",
    "    temp_player_stats[column] = temp_player_stats[column].astype(float)\n",
    "\n",
    "\n",
    "temp_player_stats.info()"
   ]
  },
  {
   "cell_type": "markdown",
   "metadata": {},
   "source": [
    "#### Upload DataFrame to Staging Schema as \"stg_player_season_stats\""
   ]
  },
  {
   "cell_type": "code",
   "execution_count": 154,
   "metadata": {},
   "outputs": [
    {
     "name": "stdout",
     "output_type": "stream",
     "text": [
      "Data uploaded successfully.\n"
     ]
    }
   ],
   "source": [
    "temp_player_stats.to_sql('stg_player_season_stats', con=conn, index=False, if_exists='append', schema='staging')\n",
    "print(\"Data uploaded successfully.\")"
   ]
  },
  {
   "cell_type": "markdown",
   "metadata": {},
   "source": [
    "#### Gather All Team Season Data and Add Each DataFrame to a Table in the Staging Schema"
   ]
  },
  {
   "cell_type": "code",
   "execution_count": 160,
   "metadata": {},
   "outputs": [
    {
     "data": {
      "application/json": {
       "ascii": false,
       "bar_format": null,
       "colour": null,
       "elapsed": 0.02001214027404785,
       "initial": 0,
       "n": 0,
       "ncols": null,
       "nrows": null,
       "postfix": null,
       "prefix": "",
       "rate": null,
       "total": 2378,
       "unit": "it",
       "unit_divisor": 1000,
       "unit_scale": false
      },
      "application/vnd.jupyter.widget-view+json": {
       "model_id": "7e7c19a3ee0d4438af69c17ce1ab260a",
       "version_major": 2,
       "version_minor": 0
      },
      "text/plain": [
       "  0%|          | 0/2378 [00:00<?, ?it/s]"
      ]
     },
     "metadata": {},
     "output_type": "display_data"
    },
    {
     "data": {
      "application/json": {
       "ascii": false,
       "bar_format": null,
       "colour": null,
       "elapsed": 0.01744842529296875,
       "initial": 0,
       "n": 0,
       "ncols": null,
       "nrows": null,
       "postfix": null,
       "prefix": "",
       "rate": null,
       "total": 2460,
       "unit": "it",
       "unit_divisor": 1000,
       "unit_scale": false
      },
      "application/vnd.jupyter.widget-view+json": {
       "model_id": "606646f9238c4670a511fcce91ed3558",
       "version_major": 2,
       "version_minor": 0
      },
      "text/plain": [
       "  0%|          | 0/2460 [00:00<?, ?it/s]"
      ]
     },
     "metadata": {},
     "output_type": "display_data"
    },
    {
     "data": {
      "application/json": {
       "ascii": false,
       "bar_format": null,
       "colour": null,
       "elapsed": 0.02187490463256836,
       "initial": 0,
       "n": 0,
       "ncols": null,
       "nrows": null,
       "postfix": null,
       "prefix": "",
       "rate": null,
       "total": 2460,
       "unit": "it",
       "unit_divisor": 1000,
       "unit_scale": false
      },
      "application/vnd.jupyter.widget-view+json": {
       "model_id": "081986ac77654d04be2c92b48f6554c7",
       "version_major": 2,
       "version_minor": 0
      },
      "text/plain": [
       "  0%|          | 0/2460 [00:00<?, ?it/s]"
      ]
     },
     "metadata": {},
     "output_type": "display_data"
    },
    {
     "data": {
      "application/json": {
       "ascii": false,
       "bar_format": null,
       "colour": null,
       "elapsed": 0.01899266242980957,
       "initial": 0,
       "n": 0,
       "ncols": null,
       "nrows": null,
       "postfix": null,
       "prefix": "",
       "rate": null,
       "total": 2460,
       "unit": "it",
       "unit_divisor": 1000,
       "unit_scale": false
      },
      "application/vnd.jupyter.widget-view+json": {
       "model_id": "0fad06ecbf804b24bd7fbf7b12805909",
       "version_major": 2,
       "version_minor": 0
      },
      "text/plain": [
       "  0%|          | 0/2460 [00:00<?, ?it/s]"
      ]
     },
     "metadata": {},
     "output_type": "display_data"
    },
    {
     "data": {
      "application/json": {
       "ascii": false,
       "bar_format": null,
       "colour": null,
       "elapsed": 0.020006179809570312,
       "initial": 0,
       "n": 0,
       "ncols": null,
       "nrows": null,
       "postfix": null,
       "prefix": "",
       "rate": null,
       "total": 2460,
       "unit": "it",
       "unit_divisor": 1000,
       "unit_scale": false
      },
      "application/vnd.jupyter.widget-view+json": {
       "model_id": "9a8e7518d54e42e094035a03e60be12f",
       "version_major": 2,
       "version_minor": 0
      },
      "text/plain": [
       "  0%|          | 0/2460 [00:00<?, ?it/s]"
      ]
     },
     "metadata": {},
     "output_type": "display_data"
    },
    {
     "data": {
      "application/json": {
       "ascii": false,
       "bar_format": null,
       "colour": null,
       "elapsed": 0.01752614974975586,
       "initial": 0,
       "n": 0,
       "ncols": null,
       "nrows": null,
       "postfix": null,
       "prefix": "",
       "rate": null,
       "total": 2460,
       "unit": "it",
       "unit_divisor": 1000,
       "unit_scale": false
      },
      "application/vnd.jupyter.widget-view+json": {
       "model_id": "0330e3725d9d40ef81afcfc1133574f7",
       "version_major": 2,
       "version_minor": 0
      },
      "text/plain": [
       "  0%|          | 0/2460 [00:00<?, ?it/s]"
      ]
     },
     "metadata": {},
     "output_type": "display_data"
    },
    {
     "data": {
      "application/json": {
       "ascii": false,
       "bar_format": null,
       "colour": null,
       "elapsed": 0.01791667938232422,
       "initial": 0,
       "n": 0,
       "ncols": null,
       "nrows": null,
       "postfix": null,
       "prefix": "",
       "rate": null,
       "total": 2460,
       "unit": "it",
       "unit_divisor": 1000,
       "unit_scale": false
      },
      "application/vnd.jupyter.widget-view+json": {
       "model_id": "429ff3a93ef14fe79fbb04e828f9475d",
       "version_major": 2,
       "version_minor": 0
      },
      "text/plain": [
       "  0%|          | 0/2460 [00:00<?, ?it/s]"
      ]
     },
     "metadata": {},
     "output_type": "display_data"
    },
    {
     "data": {
      "application/json": {
       "ascii": false,
       "bar_format": null,
       "colour": null,
       "elapsed": 0.01644277572631836,
       "initial": 0,
       "n": 0,
       "ncols": null,
       "nrows": null,
       "postfix": null,
       "prefix": "",
       "rate": null,
       "total": 0,
       "unit": "it",
       "unit_divisor": 1000,
       "unit_scale": false
      },
      "application/vnd.jupyter.widget-view+json": {
       "model_id": "81555b7041494683a085c5120f70b71a",
       "version_major": 2,
       "version_minor": 0
      },
      "text/plain": [
       "0it [00:00, ?it/s]"
      ]
     },
     "metadata": {},
     "output_type": "display_data"
    },
    {
     "data": {
      "application/json": {
       "ascii": false,
       "bar_format": null,
       "colour": null,
       "elapsed": 0.017985820770263672,
       "initial": 0,
       "n": 0,
       "ncols": null,
       "nrows": null,
       "postfix": null,
       "prefix": "",
       "rate": null,
       "total": 2458,
       "unit": "it",
       "unit_divisor": 1000,
       "unit_scale": false
      },
      "application/vnd.jupyter.widget-view+json": {
       "model_id": "afa1568a4e864cd5ba78d744a9034cdf",
       "version_major": 2,
       "version_minor": 0
      },
      "text/plain": [
       "  0%|          | 0/2458 [00:00<?, ?it/s]"
      ]
     },
     "metadata": {},
     "output_type": "display_data"
    },
    {
     "data": {
      "application/json": {
       "ascii": false,
       "bar_format": null,
       "colour": null,
       "elapsed": 0.021009445190429688,
       "initial": 0,
       "n": 0,
       "ncols": null,
       "nrows": null,
       "postfix": null,
       "prefix": "",
       "rate": null,
       "total": 2460,
       "unit": "it",
       "unit_divisor": 1000,
       "unit_scale": false
      },
      "application/vnd.jupyter.widget-view+json": {
       "model_id": "9e37c554e6944bd386ee1afcdb644d8e",
       "version_major": 2,
       "version_minor": 0
      },
      "text/plain": [
       "  0%|          | 0/2460 [00:00<?, ?it/s]"
      ]
     },
     "metadata": {},
     "output_type": "display_data"
    },
    {
     "data": {
      "application/json": {
       "ascii": false,
       "bar_format": null,
       "colour": null,
       "elapsed": 0.018909454345703125,
       "initial": 0,
       "n": 0,
       "ncols": null,
       "nrows": null,
       "postfix": null,
       "prefix": "",
       "rate": null,
       "total": 2460,
       "unit": "it",
       "unit_divisor": 1000,
       "unit_scale": false
      },
      "application/vnd.jupyter.widget-view+json": {
       "model_id": "49ca54bcd28447dcaa0ff736f5826322",
       "version_major": 2,
       "version_minor": 0
      },
      "text/plain": [
       "  0%|          | 0/2460 [00:00<?, ?it/s]"
      ]
     },
     "metadata": {},
     "output_type": "display_data"
    },
    {
     "data": {
      "application/json": {
       "ascii": false,
       "bar_format": null,
       "colour": null,
       "elapsed": 0.02327418327331543,
       "initial": 0,
       "n": 0,
       "ncols": null,
       "nrows": null,
       "postfix": null,
       "prefix": "",
       "rate": null,
       "total": 2460,
       "unit": "it",
       "unit_divisor": 1000,
       "unit_scale": false
      },
      "application/vnd.jupyter.widget-view+json": {
       "model_id": "e1f38ecb26434c12959f8f26c0953447",
       "version_major": 2,
       "version_minor": 0
      },
      "text/plain": [
       "  0%|          | 0/2460 [00:00<?, ?it/s]"
      ]
     },
     "metadata": {},
     "output_type": "display_data"
    },
    {
     "data": {
      "application/json": {
       "ascii": false,
       "bar_format": null,
       "colour": null,
       "elapsed": 0.02762317657470703,
       "initial": 0,
       "n": 0,
       "ncols": null,
       "nrows": null,
       "postfix": null,
       "prefix": "",
       "rate": null,
       "total": 2460,
       "unit": "it",
       "unit_divisor": 1000,
       "unit_scale": false
      },
      "application/vnd.jupyter.widget-view+json": {
       "model_id": "d20805c63aab4d8cb2f77b63b44a5931",
       "version_major": 2,
       "version_minor": 0
      },
      "text/plain": [
       "  0%|          | 0/2460 [00:00<?, ?it/s]"
      ]
     },
     "metadata": {},
     "output_type": "display_data"
    },
    {
     "data": {
      "application/json": {
       "ascii": false,
       "bar_format": null,
       "colour": null,
       "elapsed": 0.025043725967407227,
       "initial": 0,
       "n": 0,
       "ncols": null,
       "nrows": null,
       "postfix": null,
       "prefix": "",
       "rate": null,
       "total": 2460,
       "unit": "it",
       "unit_divisor": 1000,
       "unit_scale": false
      },
      "application/vnd.jupyter.widget-view+json": {
       "model_id": "bf6a644da5da4b2e99ebd277fd97cad1",
       "version_major": 2,
       "version_minor": 0
      },
      "text/plain": [
       "  0%|          | 0/2460 [00:00<?, ?it/s]"
      ]
     },
     "metadata": {},
     "output_type": "display_data"
    },
    {
     "data": {
      "application/json": {
       "ascii": false,
       "bar_format": null,
       "colour": null,
       "elapsed": 0.026608943939208984,
       "initial": 0,
       "n": 0,
       "ncols": null,
       "nrows": null,
       "postfix": null,
       "prefix": "",
       "rate": null,
       "total": 2460,
       "unit": "it",
       "unit_divisor": 1000,
       "unit_scale": false
      },
      "application/vnd.jupyter.widget-view+json": {
       "model_id": "4d398364eaa8489d903c4f851fe0ef34",
       "version_major": 2,
       "version_minor": 0
      },
      "text/plain": [
       "  0%|          | 0/2460 [00:00<?, ?it/s]"
      ]
     },
     "metadata": {},
     "output_type": "display_data"
    },
    {
     "data": {
      "application/json": {
       "ascii": false,
       "bar_format": null,
       "colour": null,
       "elapsed": 0.025348186492919922,
       "initial": 0,
       "n": 0,
       "ncols": null,
       "nrows": null,
       "postfix": null,
       "prefix": "",
       "rate": null,
       "total": 2118,
       "unit": "it",
       "unit_divisor": 1000,
       "unit_scale": false
      },
      "application/vnd.jupyter.widget-view+json": {
       "model_id": "9d0a62a89f5740dbb239f06e15d385dc",
       "version_major": 2,
       "version_minor": 0
      },
      "text/plain": [
       "  0%|          | 0/2118 [00:00<?, ?it/s]"
      ]
     },
     "metadata": {},
     "output_type": "display_data"
    },
    {
     "data": {
      "application/json": {
       "ascii": false,
       "bar_format": null,
       "colour": null,
       "elapsed": 0.029036521911621094,
       "initial": 0,
       "n": 0,
       "ncols": null,
       "nrows": null,
       "postfix": null,
       "prefix": "",
       "rate": null,
       "total": 2160,
       "unit": "it",
       "unit_divisor": 1000,
       "unit_scale": false
      },
      "application/vnd.jupyter.widget-view+json": {
       "model_id": "57a9f471e3e0404ea56287b8af0f98aa",
       "version_major": 2,
       "version_minor": 0
      },
      "text/plain": [
       "  0%|          | 0/2160 [00:00<?, ?it/s]"
      ]
     },
     "metadata": {},
     "output_type": "display_data"
    },
    {
     "data": {
      "application/json": {
       "ascii": false,
       "bar_format": null,
       "colour": null,
       "elapsed": 0.023004770278930664,
       "initial": 0,
       "n": 0,
       "ncols": null,
       "nrows": null,
       "postfix": null,
       "prefix": "",
       "rate": null,
       "total": 2460,
       "unit": "it",
       "unit_divisor": 1000,
       "unit_scale": false
      },
      "application/vnd.jupyter.widget-view+json": {
       "model_id": "ae73f6b08e6b4493b9d2b90caa8ea6bd",
       "version_major": 2,
       "version_minor": 0
      },
      "text/plain": [
       "  0%|          | 0/2460 [00:00<?, ?it/s]"
      ]
     },
     "metadata": {},
     "output_type": "display_data"
    },
    {
     "data": {
      "application/json": {
       "ascii": false,
       "bar_format": null,
       "colour": null,
       "elapsed": 0.023903369903564453,
       "initial": 0,
       "n": 0,
       "ncols": null,
       "nrows": null,
       "postfix": null,
       "prefix": "",
       "rate": null,
       "total": 2460,
       "unit": "it",
       "unit_divisor": 1000,
       "unit_scale": false
      },
      "application/vnd.jupyter.widget-view+json": {
       "model_id": "cd8d62d9734c49448d7c7da8cffd3fd6",
       "version_major": 2,
       "version_minor": 0
      },
      "text/plain": [
       "  0%|          | 0/2460 [00:00<?, ?it/s]"
      ]
     },
     "metadata": {},
     "output_type": "display_data"
    },
    {
     "data": {
      "application/json": {
       "ascii": false,
       "bar_format": null,
       "colour": null,
       "elapsed": 0.025394439697265625,
       "initial": 0,
       "n": 0,
       "ncols": null,
       "nrows": null,
       "postfix": null,
       "prefix": "",
       "rate": null,
       "total": 1196,
       "unit": "it",
       "unit_divisor": 1000,
       "unit_scale": false
      },
      "application/vnd.jupyter.widget-view+json": {
       "model_id": "bf7738c50047420384aaa420f0ed6195",
       "version_major": 2,
       "version_minor": 0
      },
      "text/plain": [
       "  0%|          | 0/1196 [00:00<?, ?it/s]"
      ]
     },
     "metadata": {},
     "output_type": "display_data"
    }
   ],
   "source": [
    "from tqdm.notebook import tqdm\n",
    "\n",
    "seasons = [\"2003-04\", \"2004-05\", \"2006-07\", \"2007-08\", \"2008-09\", \"2009-10\", \"2010-11\", \"2012-13\", \"2013-14\", \"2014-15\", \"2015-16\", \"2016-17\", \"2017-18\", \"2018-19\", \"2019-20\", \"2020-21\", \"2021-22\", \"2022-23\", \"2023-24\"]\n",
    "for season in seasons:\n",
    "    results = get_results(games_cltn.find({\"SEASON_YEAR\":season}))\n",
    "    try:\n",
    "        res = results[0]\n",
    "        df = pd.DataFrame(res, index=[0])\n",
    "    except IndexError:\n",
    "        pass\n",
    "    \n",
    "    i = 1\n",
    "    for player in tqdm(results, ):\n",
    "        try:\n",
    "            res = results[i]\n",
    "            df = pd.concat([df, pd.DataFrame(res, index=[0])])\n",
    "        except IndexError:\n",
    "            pass\n",
    "        i += 1\n",
    "    try:\n",
    "        df.drop(columns=['_id'], inplace=True)\n",
    "    except:\n",
    "        df.to_sql(f\"stg_{season}_games\", index=False, schema='staging', if_exists='replace', con=conn)\n",
    "    df.to_sql(f\"stg_{season}_games\", index=False, schema='staging', if_exists='replace', con=conn)"
   ]
  },
  {
   "cell_type": "markdown",
   "metadata": {},
   "source": [
    "#### Gather All Player Game Stats from API"
   ]
  },
  {
   "cell_type": "code",
   "execution_count": 178,
   "metadata": {},
   "outputs": [],
   "source": [
    "query = get_results(db.player_game_stats.find({}))"
   ]
  },
  {
   "cell_type": "markdown",
   "metadata": {},
   "source": [
    "#### Collate All Query Results Into DataFrames and Upload Each DataFrame to the Staging Schema as the \"stg_player_game_stats\" Table"
   ]
  },
  {
   "cell_type": "code",
   "execution_count": 202,
   "metadata": {},
   "outputs": [
    {
     "data": {
      "application/json": {
       "ascii": false,
       "bar_format": null,
       "colour": null,
       "elapsed": 0.030301332473754883,
       "initial": 0,
       "n": 0,
       "ncols": null,
       "nrows": null,
       "postfix": null,
       "prefix": "",
       "rate": null,
       "total": 100000,
       "unit": "it",
       "unit_divisor": 1000,
       "unit_scale": false
      },
      "application/vnd.jupyter.widget-view+json": {
       "model_id": "1588bcf9492847ec83c9cf96244362d7",
       "version_major": 2,
       "version_minor": 0
      },
      "text/plain": [
       "  0%|          | 0/100000 [00:00<?, ?it/s]"
      ]
     },
     "metadata": {},
     "output_type": "display_data"
    },
    {
     "name": "stdout",
     "output_type": "stream",
     "text": [
      "Batch 1 uploaded\n"
     ]
    },
    {
     "data": {
      "application/json": {
       "ascii": false,
       "bar_format": null,
       "colour": null,
       "elapsed": 0.01899576187133789,
       "initial": 0,
       "n": 0,
       "ncols": null,
       "nrows": null,
       "postfix": null,
       "prefix": "",
       "rate": null,
       "total": 100000,
       "unit": "it",
       "unit_divisor": 1000,
       "unit_scale": false
      },
      "application/vnd.jupyter.widget-view+json": {
       "model_id": "a72e1a2b93da46b4ade386f516f9529d",
       "version_major": 2,
       "version_minor": 0
      },
      "text/plain": [
       "  0%|          | 0/100000 [00:00<?, ?it/s]"
      ]
     },
     "metadata": {},
     "output_type": "display_data"
    },
    {
     "name": "stdout",
     "output_type": "stream",
     "text": [
      "Batch 2 uploaded\n"
     ]
    },
    {
     "data": {
      "application/json": {
       "ascii": false,
       "bar_format": null,
       "colour": null,
       "elapsed": 0.019997596740722656,
       "initial": 0,
       "n": 0,
       "ncols": null,
       "nrows": null,
       "postfix": null,
       "prefix": "",
       "rate": null,
       "total": 100000,
       "unit": "it",
       "unit_divisor": 1000,
       "unit_scale": false
      },
      "application/vnd.jupyter.widget-view+json": {
       "model_id": "64c3e5376f7d49f98719f808e25e0a0f",
       "version_major": 2,
       "version_minor": 0
      },
      "text/plain": [
       "  0%|          | 0/100000 [00:00<?, ?it/s]"
      ]
     },
     "metadata": {},
     "output_type": "display_data"
    },
    {
     "name": "stdout",
     "output_type": "stream",
     "text": [
      "Batch 3 uploaded\n"
     ]
    },
    {
     "data": {
      "application/json": {
       "ascii": false,
       "bar_format": null,
       "colour": null,
       "elapsed": 0.017895221710205078,
       "initial": 0,
       "n": 0,
       "ncols": null,
       "nrows": null,
       "postfix": null,
       "prefix": "",
       "rate": null,
       "total": 100000,
       "unit": "it",
       "unit_divisor": 1000,
       "unit_scale": false
      },
      "application/vnd.jupyter.widget-view+json": {
       "model_id": "ffe7b8c3b98841af99d23e5f42f6546b",
       "version_major": 2,
       "version_minor": 0
      },
      "text/plain": [
       "  0%|          | 0/100000 [00:00<?, ?it/s]"
      ]
     },
     "metadata": {},
     "output_type": "display_data"
    },
    {
     "name": "stdout",
     "output_type": "stream",
     "text": [
      "Batch 4 uploaded\n"
     ]
    },
    {
     "data": {
      "application/json": {
       "ascii": false,
       "bar_format": null,
       "colour": null,
       "elapsed": 0.018017292022705078,
       "initial": 0,
       "n": 0,
       "ncols": null,
       "nrows": null,
       "postfix": null,
       "prefix": "",
       "rate": null,
       "total": 86529,
       "unit": "it",
       "unit_divisor": 1000,
       "unit_scale": false
      },
      "application/vnd.jupyter.widget-view+json": {
       "model_id": "a46365d718d54492901790e8bca38157",
       "version_major": 2,
       "version_minor": 0
      },
      "text/plain": [
       "  0%|          | 0/86529 [00:00<?, ?it/s]"
      ]
     },
     "metadata": {},
     "output_type": "display_data"
    },
    {
     "name": "stdout",
     "output_type": "stream",
     "text": [
      "Batch 5 uploaded\n"
     ]
    }
   ],
   "source": [
    "\n",
    "df_concatenated1 = pd.concat([pd.DataFrame(row, index=[0]).drop(columns=['_id']) for row in tqdm(query[:100000],)], ignore_index=True)\n",
    "df_concatenated1.to_sql('stg_player_game_stats', con=conn, index=False, schema='staging', if_exists='replace')\n",
    "print('Batch 1 uploaded')\n",
    "df_concatenated2 = pd.concat([pd.DataFrame(row, index=[0]).drop(columns=['_id']) for row in tqdm(query[100000:200000],)], ignore_index=True)\n",
    "df_concatenated2.to_sql('stg_player_game_stats', con=conn, index=False, schema='staging', if_exists='append')\n",
    "print('Batch 2 uploaded')\n",
    "df_concatenated3 = pd.concat([pd.DataFrame(row, index=[0]).drop(columns=['_id']) for row in tqdm(query[200000:300000],)], ignore_index=True)\n",
    "df_concatenated3.to_sql('stg_player_game_stats', con=conn, index=False, schema='staging', if_exists='append')\n",
    "print('Batch 3 uploaded')\n",
    "df_concatenated4 = pd.concat([pd.DataFrame(row, index=[0]).drop(columns=['_id']) for row in tqdm(query[300000:400000],)], ignore_index=True)\n",
    "df_concatenated4.to_sql('stg_player_game_stats', con=conn, index=False, schema='staging', if_exists='append')\n",
    "print('Batch 4 uploaded')\n",
    "df_concatenated5 = pd.concat([pd.DataFrame(row, index=[0]).drop(columns=['_id']) for row in tqdm(query[400000:],)], ignore_index=True)\n",
    "df_concatenated5.to_sql('stg_player_game_stats', con=conn, index=False, schema='staging', if_exists='append')\n",
    "print('Batch 5 uploaded')"
   ]
  }
 ],
 "metadata": {
  "kernelspec": {
   "display_name": "Python 3",
   "language": "python",
   "name": "python3"
  },
  "language_info": {
   "codemirror_mode": {
    "name": "ipython",
    "version": 3
   },
   "file_extension": ".py",
   "mimetype": "text/x-python",
   "name": "python",
   "nbconvert_exporter": "python",
   "pygments_lexer": "ipython3",
   "version": "3.9.12"
  }
 },
 "nbformat": 4,
 "nbformat_minor": 2
}
