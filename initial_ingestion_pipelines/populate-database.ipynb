{
 "cells": [
  {
   "cell_type": "code",
   "execution_count": null,
   "metadata": {},
   "outputs": [],
   "source": [
    "from pymongo import MongoClient\n",
    "import pandas as pd\n",
    "\n",
    "client = MongoClient('localhost', 27017)\n",
    "\n",
    "db = client['NBA-Stats']\n",
    "\n",
    "games_cltn = db['Games']\n",
    "player_stats_cltn = db['Player Stats']\n",
    "player_cltn = db['players']\n",
    "player_game_cltn = db['player_game_stats']"
   ]
  },
  {
   "cell_type": "code",
   "execution_count": 3,
   "metadata": {},
   "outputs": [
    {
     "data": {
      "text/plain": [
       "{'resource': 'teamgamelog',\n",
       " 'parameters': {'TeamID': 0,\n",
       "  'LeagueID': None,\n",
       "  'Season': '2023-24',\n",
       "  'SeasonType': 'Regular Season',\n",
       "  'DateFrom': None,\n",
       "  'DateTo': None},\n",
       " 'resultSets': [{'name': 'TeamGameLog',\n",
       "   'headers': ['Team_ID',\n",
       "    'Game_ID',\n",
       "    'GAME_DATE',\n",
       "    'MATCHUP',\n",
       "    'WL',\n",
       "    'W',\n",
       "    'L',\n",
       "    'W_PCT',\n",
       "    'MIN',\n",
       "    'FGM',\n",
       "    'FGA',\n",
       "    'FG_PCT',\n",
       "    'FG3M',\n",
       "    'FG3A',\n",
       "    'FG3_PCT',\n",
       "    'FTM',\n",
       "    'FTA',\n",
       "    'FT_PCT',\n",
       "    'OREB',\n",
       "    'DREB',\n",
       "    'REB',\n",
       "    'AST',\n",
       "    'STL',\n",
       "    'BLK',\n",
       "    'TOV',\n",
       "    'PF',\n",
       "    'PTS'],\n",
       "   'rowSet': []}]}"
      ]
     },
     "execution_count": 3,
     "metadata": {},
     "output_type": "execute_result"
    }
   ],
   "source": [
    "from nba_api.stats.endpoints import teamgamelog\n",
    "teamgamelog.TeamGameLog(team_id=0).get_dict()"
   ]
  },
  {
   "cell_type": "code",
   "execution_count": null,
   "metadata": {},
   "outputs": [],
   "source": [
    "from nba_api.live.nba.endpoints import scoreboard\n",
    "from nba_api.stats.endpoints import playercareerstats\n",
    "from nba_api.stats.endpoints import commonallplayers\n",
    "from nba_api.stats.endpoints import cumestatsplayergames\n",
    "\n",
    "games = scoreboard.ScoreBoard()\n",
    "record = games.get_dict()\n",
    "\n",
    "all_players = commonallplayers.CommonAllPlayers().get_dict()\n",
    "#player_cltn.insert_one(all_players)\n",
    "#stats_cltn.insert_one(record)"
   ]
  },
  {
   "cell_type": "code",
   "execution_count": null,
   "metadata": {},
   "outputs": [],
   "source": [
    "from nba_api.stats.endpoints import cumestatsplayergames\n",
    "query = cumestatsplayergames.CumeStatsPlayerGames(2544, season='2022-23').get_dict()\n",
    "query\n",
    "# x = 0\n",
    "# for i in query['resultSets'][0]['rowSet']:\n",
    "#     print(x)\n",
    "#     x += 1"
   ]
  },
  {
   "cell_type": "code",
   "execution_count": null,
   "metadata": {},
   "outputs": [],
   "source": [
    "from nba_api.stats.endpoints import teamgamelogs\n",
    "#pd.json_normalize(json.loads(teamgamelogs.TeamGameLogs().get_json()))\n",
    "query = teamgamelogs.TeamGameLogs(season_nullable='2023-24').get_dict()\n",
    "x = 0\n",
    "for i in query['resultSets'][0]['rowSet']:\n",
    "    print(i)\n",
    "    x += 1\n",
    "\n",
    "# headers = query['resultSets'][0]['headers']\n",
    "# results = query['resultSets'][0]['rowSet'][0]\n",
    "\n",
    "# res = {}\n",
    "# for key in headers:\n",
    "#     # res[key] = results[vali]\n",
    "#     for value in results:\n",
    "#         res[key] = value\n",
    "#         results.remove(value)\n",
    "#         break\n",
    "# res"
   ]
  },
  {
   "cell_type": "code",
   "execution_count": null,
   "metadata": {},
   "outputs": [],
   "source": [
    "\n",
    "# df = pd.DataFrame(data={\"player_id\": [0], \"player_name\": [\"test\"]}, columns=[\"player_id\", \"player_name\"])\n",
    "# i = 0\n",
    "# while i < 4905:\n",
    "\n",
    "#     # Define the aggregation pipeline\n",
    "#     pipeline = [\n",
    "#         {\"$unwind\": \"$resultSets\"},\n",
    "#         {\"$project\": {\"firstElementInRowSet\": {\"$arrayElemAt\": [\"$resultSets.rowSet\", i]}}},\n",
    "#         {\"$limit\": 1}\n",
    "#     ]\n",
    "\n",
    "#     # Execute the aggregation query\n",
    "#     result = list(player_cltn.aggregate(pipeline))\n",
    "\n",
    "#     # Access the first element in the \"rowSet\" array\n",
    "#     if result:\n",
    "#         first_element = result[0][\"firstElementInRowSet\"]\n",
    "#         print(f\"{first_element[0]}, {first_element[2]}\")\n",
    "#         df.loc[i] = [first_element[0], first_element[2]]\n",
    "#     else:\n",
    "#         print(\"No results found.\")\n",
    "#     i += 1\n",
    "# df"
   ]
  },
  {
   "cell_type": "code",
   "execution_count": null,
   "metadata": {},
   "outputs": [],
   "source": [
    "# ids = pd.Series(df['player_id'])\n",
    "# names = pd.Series(df['player_name'])\n",
    "# i = 0\n",
    "# while i < 4905:\n",
    "#     player = playercareerstats.PlayerCareerStats(player_id=ids[i])\n",
    "#     player = player.get_dict()\n",
    "#     player['player name'] = names[i]\n",
    "#     player_cltn.insert_one(player)\n",
    "#     i += 1"
   ]
  },
  {
   "cell_type": "code",
   "execution_count": null,
   "metadata": {},
   "outputs": [],
   "source": [
    "from tqdm.notebook import tqdm\n",
    "\n",
    "\n",
    "headers = query['resultSets'][0]['headers']\n",
    "query = query['resultSets'][0]['rowSet']\n",
    "i = 0\n",
    "for game in tqdm(query, ):\n",
    "    results = query[i]\n",
    "    res = {}\n",
    "    for key in headers:\n",
    "        # res[key] = results[vali]\n",
    "        for value in results:\n",
    "            res[key] = value\n",
    "            results.remove(value)\n",
    "            break\n",
    "    games_cltn.insert_one(res)\n",
    "    i += 1\n",
    "    "
   ]
  },
  {
   "cell_type": "code",
   "execution_count": null,
   "metadata": {},
   "outputs": [],
   "source": [
    "import psycopg2\n",
    "from warnings import filterwarnings\n",
    "filterwarnings('ignore')\n",
    "conn = psycopg2.connect(database=\"nba_stats\",user=\"postgres\",password=\"DataNerd2023!!\",host=\"localhost\")\n",
    "ids = pd.read_sql(\"SELECT DISTINCT player_id, name, SUM(games_played) AS total_games FROM player_stats GROUP BY player_id, name ORDER BY total_games DESC\", con=conn)\n",
    "ids = list(pd.Series(ids['player_id']))\n",
    "ids"
   ]
  },
  {
   "cell_type": "code",
   "execution_count": null,
   "metadata": {},
   "outputs": [],
   "source": [
    "from nba_api.stats.endpoints import playergamelogs\n",
    "from tqdm.notebook import tqdm\n",
    "# \"2023-24\", \"2022-23\", \"2021-22\", \"2020-21\", \"2019-20\", \"2018-19\", \"2017-18\", \n",
    "seasons = [\"2014-15\", \"2013-14\", \"2012-13\", \"2011-12\", \"2010-11\", \"2009-10\", \"2008-09\", \"2007-08\", \"2006-07\", \"2004-05\", \"2003-04\"]\n",
    "for season in seasons:\n",
    "    query = playergamelogs.PlayerGameLogs(season_nullable=season).get_dict()\n",
    "\n",
    "    headers = query['resultSets'][0]['headers']\n",
    "    query = query['resultSets'][0]['rowSet']\n",
    "    i = 0\n",
    "    for game in tqdm(query, ):\n",
    "        results = query[i]\n",
    "        res = {}\n",
    "        for key in headers:\n",
    "            for value in results:\n",
    "                res[key] = value\n",
    "                results.remove(value)\n",
    "                break\n",
    "        player_game_cltn.insert_one(res)\n",
    "        i += 1\n",
    "    print(season)"
   ]
  },
  {
   "cell_type": "code",
   "execution_count": null,
   "metadata": {},
   "outputs": [],
   "source": [
    "\n",
    "for i in tqdm(query['resultSets'][0]['rowSet']):\n",
    "    print(i)\n",
    "    res = {}\n",
    "    for key in headers:\n",
    "            # res[key] = results[vali]\n",
    "            for value in values:\n",
    "                res[key] = value\n",
    "                values.remove(value)\n",
    "                break\n",
    "    results = pd.DataFrame(res, index=[0])\n",
    "    results.to_csv('player_game_stats.csv', index=False, header=False, mode='a')"
   ]
  },
  {
   "cell_type": "code",
   "execution_count": null,
   "metadata": {},
   "outputs": [],
   "source": [
    "\n",
    "from tqdm.notebook import tqdm\n",
    "query = playergamelogs.PlayerGameLogs().get_dict()\n",
    "headers = query['resultSets'][0]['headers']\n",
    "index = 0\n",
    "for result in tqdm(query):\n",
    "    values = query['resultSets'][0]['rowSet'][index]\n",
    "    res = {}\n",
    "    for key in headers:\n",
    "            # res[key] = results[vali]\n",
    "            for value in values:\n",
    "                res[key] = value\n",
    "                values.remove(value)\n",
    "                break\n",
    "    results = pd.DataFrame(res, index=[0])\n",
    "    final = pd.concat([df, results])\n",
    "    index += 1"
   ]
  },
  {
   "cell_type": "code",
   "execution_count": null,
   "metadata": {},
   "outputs": [],
   "source": [
    "import psycopg2\n",
    "from warnings import filterwarnings\n",
    "filterwarnings('ignore')\n",
    "conn = psycopg2.connect(database=\"nba_stats\",user=\"postgres\",password=\"DataNerd2023!!\",host=\"localhost\")\n",
    "pd.read_sql(\"SELECT DISTINCT player_id FROM player_stats\", con=conn)"
   ]
  },
  {
   "cell_type": "code",
   "execution_count": null,
   "metadata": {},
   "outputs": [],
   "source": [
    "final"
   ]
  }
 ],
 "metadata": {
  "kernelspec": {
   "display_name": "Python 3",
   "language": "python",
   "name": "python3"
  },
  "language_info": {
   "codemirror_mode": {
    "name": "ipython",
    "version": 3
   },
   "file_extension": ".py",
   "mimetype": "text/x-python",
   "name": "python",
   "nbconvert_exporter": "python",
   "pygments_lexer": "ipython3",
   "version": "3.9.12"
  }
 },
 "nbformat": 4,
 "nbformat_minor": 2
}
